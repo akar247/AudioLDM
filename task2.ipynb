{
 "cells": [
  {
   "cell_type": "markdown",
   "id": "4251580e-728b-4fc0-a116-170192b80306",
   "metadata": {},
   "source": [
    "## 1. Intro"
   ]
  },
  {
   "cell_type": "markdown",
   "id": "83c54c94-4356-46ed-abaf-8f1766764af8",
   "metadata": {},
   "source": [
    "## Objective:  \n",
    "\n",
    "We want to build a next‑chord prediction model that listens to existing melodies and chord progressions and guesses “What chord comes next?” (Built and based on _ReaLJam: Real-Time Human-AI Music Jamming with Reinforcement Learning-Tuned Transformers_)"
   ]
  },
  {
   "cell_type": "code",
   "execution_count": 21,
   "id": "cac8bfe5-e0c9-48d3-9472-e82f7cc08f64",
   "metadata": {},
   "outputs": [],
   "source": [
    "# !git clone https://github.com/wayne391/lead-sheet-dataset.git\n",
    "\n",
    "import os\n",
    "import json\n",
    "import numpy as np\n",
    "import pandas as pd\n",
    "import matplotlib.pyplot as plt\n",
    "from collections import Counter, defaultdict\n",
    "\n",
    "import torch\n",
    "from torch import nn\n",
    "from torch.utils.data import Dataset, DataLoader\n",
    "\n",
    "%matplotlib inline\n"
   ]
  },
  {
   "cell_type": "markdown",
   "id": "d7d7ebd8-1598-461f-9d89-3f2a8ea1f668",
   "metadata": {},
   "source": [
    "## A. Data"
   ]
  },
  {
   "cell_type": "markdown",
   "id": "6ce63031-be49-482a-b609-6030f3d2156f",
   "metadata": {},
   "source": [
    "`lead-sheet-dataset`: directory of a public collection of lead sheeets encoded into a JSON format\n",
    "\n",
    "Important Characteristics:\n",
    "- Melody Events - where each event may have a `pitch` field and a timestamp\n",
    "- Chord Events - where each event has a `symbol` field and a timestamp\n",
    "\n",
    "- Entire dataset is roughly 30K annotated pop songs. We limited our training to roughly 1K random samples from this dataset.\n",
    "- The JSON extraction pipeline (outside the notebook) converted Hooktheory’s chord+melody annotations into a simple event‑list format"
   ]
  },
  {
   "cell_type": "markdown",
   "id": "dbae012e-d17d-480c-8e10-af413ac7ba9d",
   "metadata": {},
   "source": [
    "## 2. Preprocessing\n",
    "\n",
    "(Preprocessed data below, discuss)"
   ]
  },
  {
   "cell_type": "code",
   "execution_count": 2,
   "id": "002955f0-9784-4811-9305-ad99de001f38",
   "metadata": {},
   "outputs": [
    {
     "name": "stdout",
     "output_type": "stream",
     "text": [
      "Parsed 20 excerpts successfully.\n"
     ]
    }
   ],
   "source": [
    "data_dir = \"lead-sheet-dataset/datasets/event\"\n",
    "mode_map = {'1': 'major', '2': 'minor'}\n",
    "\n",
    "keys, modes = [], []\n",
    "all_pitches, all_chords = [], []\n",
    "excerpt_lengths = []\n",
    "\n",
    "for root, _, files in os.walk(data_dir):\n",
    "    for fn in files:\n",
    "        if not fn.endswith(\"_symbol_key.json\"):\n",
    "            continue\n",
    "        path = os.path.join(root, fn)\n",
    "        js = json.load(open(path, 'r'))\n",
    "        md = js.get('metadata', {})\n",
    "        # Metadata\n",
    "        keys.append(md.get('key', 'Unknown'))\n",
    "        modes.append(mode_map.get(str(md.get('mode', '')), 'Unknown'))\n",
    "        # Safe access to tracks\n",
    "        melody = js.get('tracks', {}).get('melody') or []\n",
    "        chord = js.get('tracks', {}).get('chord') or []\n",
    "        # Extract events, guard against None\n",
    "        pitches = [e['pitch'] for e in melody if isinstance(e, dict) and 'pitch' in e]\n",
    "        chords = [c['symbol'] for c in chord if isinstance(c, dict) and 'symbol' in c]\n",
    "        # Aggregate\n",
    "        all_pitches.extend(pitches)\n",
    "        all_chords.extend(chords)\n",
    "        excerpt_lengths.append(len(pitches) + len(chords))\n",
    "\n",
    "print(f\"Parsed {len(excerpt_lengths):,} excerpts successfully.\")"
   ]
  },
  {
   "cell_type": "markdown",
   "id": "4bfbd78e-9a1a-4abb-9037-588aa4ed775f",
   "metadata": {},
   "source": [
    "## 3. Core Stats\n",
    "\n",
    "- **Total excerpts**  \n",
    "- **Unique chord symbols**  \n",
    "- **Melody pitch range** (min/max MIDI)  \n",
    "- **Key & mode distributions**\n"
   ]
  },
  {
   "cell_type": "markdown",
   "id": "274ee20f-9add-469c-b8c1-d91e7e89c8e9",
   "metadata": {},
   "source": [
    "## Key & Mode Distribution\n"
   ]
  },
  {
   "cell_type": "code",
   "execution_count": 3,
   "id": "857c5936-c259-4745-be74-521e71e114c3",
   "metadata": {},
   "outputs": [
    {
     "name": "stdout",
     "output_type": "stream",
     "text": [
      "Total excerpts: 20\n",
      "Unique chord symbols: 56\n",
      "Melody pitch range: MIDI -11.0–30.0\n"
     ]
    },
    {
     "data": {
      "text/html": [
       "<div>\n",
       "<style scoped>\n",
       "    .dataframe tbody tr th:only-of-type {\n",
       "        vertical-align: middle;\n",
       "    }\n",
       "\n",
       "    .dataframe tbody tr th {\n",
       "        vertical-align: top;\n",
       "    }\n",
       "\n",
       "    .dataframe thead th {\n",
       "        text-align: right;\n",
       "    }\n",
       "</style>\n",
       "<table border=\"1\" class=\"dataframe\">\n",
       "  <thead>\n",
       "    <tr style=\"text-align: right;\">\n",
       "      <th></th>\n",
       "      <th>Key</th>\n",
       "      <th>Count</th>\n",
       "    </tr>\n",
       "  </thead>\n",
       "  <tbody>\n",
       "    <tr>\n",
       "      <th>0</th>\n",
       "      <td>G</td>\n",
       "      <td>3</td>\n",
       "    </tr>\n",
       "    <tr>\n",
       "      <th>1</th>\n",
       "      <td>F</td>\n",
       "      <td>3</td>\n",
       "    </tr>\n",
       "    <tr>\n",
       "      <th>2</th>\n",
       "      <td>C#</td>\n",
       "      <td>3</td>\n",
       "    </tr>\n",
       "    <tr>\n",
       "      <th>3</th>\n",
       "      <td>D</td>\n",
       "      <td>3</td>\n",
       "    </tr>\n",
       "    <tr>\n",
       "      <th>4</th>\n",
       "      <td>F#</td>\n",
       "      <td>2</td>\n",
       "    </tr>\n",
       "    <tr>\n",
       "      <th>5</th>\n",
       "      <td>G#</td>\n",
       "      <td>2</td>\n",
       "    </tr>\n",
       "    <tr>\n",
       "      <th>6</th>\n",
       "      <td>Eb</td>\n",
       "      <td>2</td>\n",
       "    </tr>\n",
       "    <tr>\n",
       "      <th>7</th>\n",
       "      <td>C</td>\n",
       "      <td>1</td>\n",
       "    </tr>\n",
       "  </tbody>\n",
       "</table>\n",
       "</div>"
      ],
      "text/plain": [
       "  Key  Count\n",
       "0   G      3\n",
       "1   F      3\n",
       "2  C#      3\n",
       "3   D      3\n",
       "4  F#      2\n",
       "5  G#      2\n",
       "6  Eb      2\n",
       "7   C      1"
      ]
     },
     "metadata": {},
     "output_type": "display_data"
    },
    {
     "data": {
      "text/html": [
       "<div>\n",
       "<style scoped>\n",
       "    .dataframe tbody tr th:only-of-type {\n",
       "        vertical-align: middle;\n",
       "    }\n",
       "\n",
       "    .dataframe tbody tr th {\n",
       "        vertical-align: top;\n",
       "    }\n",
       "\n",
       "    .dataframe thead th {\n",
       "        text-align: right;\n",
       "    }\n",
       "</style>\n",
       "<table border=\"1\" class=\"dataframe\">\n",
       "  <thead>\n",
       "    <tr style=\"text-align: right;\">\n",
       "      <th></th>\n",
       "      <th>Mode</th>\n",
       "      <th>Count</th>\n",
       "    </tr>\n",
       "  </thead>\n",
       "  <tbody>\n",
       "    <tr>\n",
       "      <th>0</th>\n",
       "      <td>Unknown</td>\n",
       "      <td>12</td>\n",
       "    </tr>\n",
       "    <tr>\n",
       "      <th>1</th>\n",
       "      <td>minor</td>\n",
       "      <td>5</td>\n",
       "    </tr>\n",
       "    <tr>\n",
       "      <th>2</th>\n",
       "      <td>major</td>\n",
       "      <td>3</td>\n",
       "    </tr>\n",
       "  </tbody>\n",
       "</table>\n",
       "</div>"
      ],
      "text/plain": [
       "      Mode  Count\n",
       "0  Unknown     12\n",
       "1    minor      5\n",
       "2    major      3"
      ]
     },
     "metadata": {},
     "output_type": "display_data"
    }
   ],
   "source": [
    "num_excerpts = len(excerpt_lengths)\n",
    "unique_chords = set(all_chords)\n",
    "if all_pitches:\n",
    "    pitch_min, pitch_max = min(all_pitches), max(all_pitches)\n",
    "else:\n",
    "    pitch_min, pitch_max = None, None\n",
    "\n",
    "key_counts = Counter(keys)\n",
    "mode_counts = Counter(modes)\n",
    "\n",
    "print(f\"Total excerpts: {num_excerpts:,}\")\n",
    "print(f\"Unique chord symbols: {len(unique_chords):,}\")\n",
    "print(f\"Melody pitch range: MIDI {pitch_min}–{pitch_max}\")\n",
    "\n",
    "df_keys = pd.DataFrame(key_counts.most_common(), columns=['Key', 'Count'])\n",
    "df_modes = pd.DataFrame(mode_counts.most_common(), columns=['Mode', 'Count'])\n",
    "\n",
    "display(df_keys.head(8))\n",
    "display(df_modes)\n"
   ]
  },
  {
   "cell_type": "markdown",
   "id": "3284a4ea-9c7e-47f3-a2d7-3e91f567a886",
   "metadata": {},
   "source": [
    "## 4. Visualizations\n"
   ]
  },
  {
   "cell_type": "code",
   "execution_count": 4,
   "id": "164a7efe-88b9-4904-862a-351baa06de39",
   "metadata": {},
   "outputs": [
    {
     "data": {
      "image/png": "[encoded data removed]",
      "text/plain": [
       "<Figure size 800x400 with 1 Axes>"
      ]
     },
     "metadata": {},
     "output_type": "display_data"
    }
   ],
   "source": [
    "plt.figure(figsize=(8,4))\n",
    "plt.hist(excerpt_lengths, bins=40)\n",
    "plt.title(\"Excerpt Event Count Distribution\")\n",
    "plt.xlabel(\"Total Events (melody + chords)\")\n",
    "plt.ylabel(\"Number of Excerpts\")\n",
    "plt.grid(True)\n",
    "plt.show()"
   ]
  },
  {
   "cell_type": "markdown",
   "id": "163cd6de-e285-4d12-be50-288705dbe305",
   "metadata": {},
   "source": [
    "Most excerpts contain fewer than 100 total musical events (melody + chords), with a sharp drop-off beyond that.\n",
    "This suggests short and focused musical interactions."
   ]
  },
  {
   "cell_type": "code",
   "execution_count": 5,
   "id": "838a43d0-0265-46ab-b489-e5eee92d30ec",
   "metadata": {},
   "outputs": [
    {
     "data": {
      "image/png": "[encoded data removed]",
      "text/plain": [
       "<Figure size 600x300 with 1 Axes>"
      ]
     },
     "metadata": {},
     "output_type": "display_data"
    }
   ],
   "source": [
    "top_keys = df_keys.head(10)\n",
    "plt.figure(figsize=(6,3))\n",
    "plt.bar(top_keys['Key'], top_keys['Count'])\n",
    "plt.title(\"Top 10 Key Signatures\")\n",
    "plt.xticks(rotation=45)\n",
    "plt.tight_layout()\n",
    "plt.show()\n"
   ]
  },
  {
   "cell_type": "markdown",
   "id": "d61ce745-485f-4a57-8d3f-8799abbef630",
   "metadata": {},
   "source": [
    "`G`, `F`, `C♯`, and `D` are the most common keys.\n",
    "These characteristics may imply a certrain genre or instrument familiarity within the dataset, but any bias in the genre that would be neglible for this task as it would illustrate our model's ability to perform on a more specific type of music. "
   ]
  },
  {
   "cell_type": "code",
   "execution_count": 6,
   "id": "ce935f2d-ad8a-4f1b-a5ac-28f6d128a775",
   "metadata": {},
   "outputs": [
    {
     "data": {
      "image/png": "[encoded data removed]",
      "text/plain": [
       "<Figure size 600x300 with 1 Axes>"
      ]
     },
     "metadata": {},
     "output_type": "display_data"
    }
   ],
   "source": [
    "top_chords = pd.DataFrame(Counter(all_chords).most_common(12), columns=['Chord', 'Count'])\n",
    "plt.figure(figsize=(6,3))\n",
    "plt.bar(top_chords['Chord'], top_chords['Count'])\n",
    "plt.title(\"Top 12 Chord Symbols\")\n",
    "plt.xticks(rotation=45)\n",
    "plt.tight_layout()\n",
    "plt.show()\n"
   ]
  },
  {
   "cell_type": "markdown",
   "id": "fa510eb3-1306-4672-8d9c-8424ecbc2c98",
   "metadata": {},
   "source": [
    "The chord `gbm7` is used most frequently, followed by `G` and `E/B`. \n",
    "This illustrates a wide harmonic variety and the dominance of certain chords (which, again, could imply a certain genre/style of music)"
   ]
  },
  {
   "cell_type": "code",
   "execution_count": 7,
   "id": "32d34175-de81-4047-bfaa-e89db1fc3f4a",
   "metadata": {},
   "outputs": [
    {
     "data": {
      "image/png": "[encoded data removed]",
      "text/plain": [
       "<Figure size 600x400 with 1 Axes>"
      ]
     },
     "metadata": {},
     "output_type": "display_data"
    }
   ],
   "source": [
    "plt.figure(figsize=(6,4))\n",
    "plt.violinplot(all_pitches, showmedians=True)\n",
    "plt.title(\"Melody Pitch Distribution\")\n",
    "plt.ylabel(\"MIDI Pitch\")\n",
    "plt.grid(True)\n",
    "plt.show()"
   ]
  },
  {
   "cell_type": "markdown",
   "id": "21027be8-29e8-4c6f-a6c3-7ac1c4ceefdc",
   "metadata": {},
   "source": [
    "The melody pitch distribution is centered and symmetrical around a median MIDI pitch of 10. \n",
    "Suggests balanced melodic writing w/ most notes falling within a standard musical range.\n"
   ]
  },
  {
   "cell_type": "code",
   "execution_count": 8,
   "id": "33e769e8-e8d1-4c41-9705-e36ef29e3e90",
   "metadata": {},
   "outputs": [
    {
     "data": {
      "image/png": "[encoded data removed]",
      "text/plain": [
       "<Figure size 600x500 with 2 Axes>"
      ]
     },
     "metadata": {},
     "output_type": "display_data"
    }
   ],
   "source": [
    "top12 = [c for c, _ in Counter(all_chords).most_common(12)]\n",
    "mat = np.zeros((12, 12), dtype=int)\n",
    "for root, _, files in os.walk(data_dir):\n",
    "    for fn in files:\n",
    "        if not fn.endswith(\"_symbol_key.json\"):\n",
    "            continue\n",
    "        js = json.load(open(os.path.join(root, fn), 'r'))\n",
    "        seq = [c['symbol'] for c in (js.get('tracks', {}).get('chord') or [])\n",
    "               if isinstance(c, dict) and 'symbol' in c]\n",
    "        for a, b in zip(seq, seq[1:]):\n",
    "            if a in top12 and b in top12:\n",
    "                mat[top12.index(a), top12.index(b)] += 1\n",
    "\n",
    "plt.figure(figsize=(6,5))\n",
    "plt.imshow(mat, cmap='viridis', interpolation='nearest')\n",
    "plt.title(\"Chord Transition Heatmap (Top 12)\")\n",
    "plt.xticks(range(12), top12, rotation=90)\n",
    "plt.yticks(range(12), top12)\n",
    "plt.colorbar(label=\"Transition Count\")\n",
    "plt.tight_layout()\n",
    "plt.show()\n"
   ]
  },
  {
   "cell_type": "markdown",
   "id": "94543853-0389-4c86-96e1-9e997b187b6d",
   "metadata": {},
   "source": [
    "We can see in this heatmap that the majority of the chord transitions follow the same trend as the counts of each chord -- `gbm7` is the most common chord, and we see in the heatmap that the transition from `gbm7` to itself occurs the most. In fact, there is a slight trend illustrating that there is commonly chord transitions from a chord to itself (as seen in the fading diagonal from the top left to bottom right)"
   ]
  },
  {
   "cell_type": "markdown",
   "id": "aa931ffc-f46d-4c5a-8e10-5a06f94f6ee5",
   "metadata": {},
   "source": [
    "## 5. Problem Formulation\n",
    "\n",
    "- **Task**: Next-chord prediction conditioned on preceding melody & chords  \n",
    "- **Input**: Sequences of pitch & chord tokens (max length 128)  \n",
    "- **Output**: Next chord token at each time step  \n",
    "- **Loss**: Cross-entropy over chord vocabulary  \n",
    "- **Optimizer**: Adam (lr=1e-4)\n"
   ]
  },
  {
   "cell_type": "markdown",
   "id": "1f45094b-9686-425b-a119-01008a71b3e0",
   "metadata": {},
   "source": [
    "### Various Modeling Approaches\n",
    "\n",
    "**1. Sequence Model (Transformer)**:\n",
    "\n",
    "- Chord progressions have long‑range dependencies (e.g. I–IV in bar 1 influences V–I in bar 5).\n",
    "\n",
    "- A Transformer can attend across the entire length-128 context of melody + chords.\n",
    "\n",
    "**2. Embedding Layer**:\n",
    "\n",
    "- By embedding both pitch and chord into the same d_model dims, we let the model jointly attend to “what melody note is happening” and “which chords have occurred so far.”\n",
    "\n",
    "\n",
    "### Alternative Architectures (we could have pursued)\n",
    "\n",
    "**1. LSTM/RNN**\n",
    "\n",
    "-  Fewer parameters than a deep Transformer | difficulty learning very long dependencies (e.g. bar changes across 2+ bars).\n",
    "\n",
    "**2. MLP (Simple feed-forward) on 5-Chord Context Windows**\n",
    "\n",
    "- Similar to n-gram style, it is fast and low complexity to implement | no direct way to align melody tokens with chords.\n",
    "\n",
    "**3. Convolutional Seq2Seq**\n",
    "\n",
    "- Faster inference than Transformer in some settings | limited receptive field or must stack many layers to see a full 128 token (heavy comp)\n"
   ]
  },
  {
   "cell_type": "code",
   "execution_count": 9,
   "id": "c489f68d-e965-44b2-97ea-102f422ab2a6",
   "metadata": {},
   "outputs": [],
   "source": [
    "pitch2idx = {p: i+1 for i,p in enumerate(sorted(set(all_pitches)))}\n",
    "chord2idx = {c: i+1 for i,c in enumerate(sorted(unique_chords))}\n",
    "N_pitch, N_chord = len(pitch2idx)+1, len(chord2idx)+1\n",
    "\n",
    "class LeadSheetDataset(Dataset):\n",
    "    def __init__(self, root, seq_len=128):\n",
    "        self.files = [\n",
    "            os.path.join(rt,fn)\n",
    "            for rt,_,fs in os.walk(root)\n",
    "            for fn in fs if fn.endswith(\"_symbol_key.json\")\n",
    "        ]\n",
    "        self.seq_len = seq_len\n",
    "\n",
    "    def __len__(self):\n",
    "        return len(self.files)\n",
    "\n",
    "    def __getitem__(self, idx):\n",
    "        js = json.load(open(self.files[idx],'r'))\n",
    "        tracks = js.get('tracks',{})\n",
    "        mel_events   = tracks.get('melody') or []\n",
    "        chord_events = tracks.get('chord')  or []\n",
    "        mel = [pitch2idx[e['pitch']] if isinstance(e,dict) and 'pitch' in e and e['pitch'] in pitch2idx else 0\n",
    "               for e in mel_events]\n",
    "        ch  = [chord2idx[c['symbol']] if isinstance(c,dict) and 'symbol' in c and c['symbol'] in chord2idx else 0\n",
    "               for c in chord_events]\n",
    "        L = min(len(mel), len(ch), self.seq_len+1)\n",
    "        x_mel = torch.tensor(mel[:L-1], dtype=torch.long)\n",
    "        x_ch  = torch.tensor(ch[:L-1], dtype=torch.long)\n",
    "        y_ch  = torch.tensor(ch[1:L],  dtype=torch.long)  # aligned target\n",
    "        return x_mel, x_ch, y_ch\n",
    "\n",
    "def collate_fn(batch):\n",
    "    mels, chs, tgts = zip(*batch)\n",
    "    mels = nn.utils.rnn.pad_sequence(mels, batch_first=True, padding_value=0)\n",
    "    chs  = nn.utils.rnn.pad_sequence(chs,  batch_first=True, padding_value=0)\n",
    "    tgts = nn.utils.rnn.pad_sequence(tgts, batch_first=True, padding_value=0)\n",
    "    return mels, chs, tgts\n",
    "\n",
    "dataset = LeadSheetDataset(data_dir, seq_len=128)\n",
    "loader  = DataLoader(dataset, batch_size=64, shuffle=True,\n",
    "                     collate_fn=collate_fn, num_workers=0)\n"
   ]
  },
  {
   "cell_type": "code",
   "execution_count": 10,
   "id": "e9b47d82-1ed2-4d52-a6ca-61b588d34e69",
   "metadata": {},
   "outputs": [],
   "source": [
    "class JamTransformer(nn.Module):\n",
    "    def __init__(self, N_pitch, N_chord, d_model=512, nhead=8,\n",
    "                 num_layers=6, d_ff=2048, dropout=0.1, max_len=128):\n",
    "        super().__init__()\n",
    "        self.pitch_embed = nn.Embedding(N_pitch, d_model, padding_idx=0)\n",
    "        self.chord_embed = nn.Embedding(N_chord, d_model, padding_idx=0)\n",
    "        self.pos_embed   = nn.Embedding(max_len, d_model)\n",
    "        layer = nn.TransformerEncoderLayer(\n",
    "            d_model, nhead, d_ff, dropout, batch_first=True\n",
    "        )\n",
    "        self.transformer = nn.TransformerEncoder(layer, num_layers)\n",
    "        self.fc_out      = nn.Linear(d_model, N_chord)\n",
    "\n",
    "    def forward(self, mel, ch):\n",
    "        B, T = mel.size()\n",
    "        pos = torch.arange(T, device=mel.device).unsqueeze(0)\n",
    "        x = self.pitch_embed(mel) + self.chord_embed(ch) + self.pos_embed(pos)\n",
    "        x = self.transformer(x)  # (B, T, d_model)\n",
    "        return self.fc_out(x)    # (B, T, N_chord)\n"
   ]
  },
  {
   "cell_type": "code",
   "execution_count": 11,
   "id": "c405ffa8-5f3f-413e-94ad-679c4792d14c",
   "metadata": {},
   "outputs": [
    {
     "name": "stdout",
     "output_type": "stream",
     "text": [
      "Epoch  1 — Avg Loss: 4.1553\n",
      "Epoch  2 — Avg Loss: 3.2233\n",
      "Epoch  3 — Avg Loss: 2.8625\n",
      "Epoch  4 — Avg Loss: 2.6443\n",
      "Epoch  5 — Avg Loss: 2.4298\n",
      "Epoch  6 — Avg Loss: 2.2618\n",
      "Epoch  7 — Avg Loss: 2.0933\n",
      "Epoch  8 — Avg Loss: 1.8969\n",
      "Epoch  9 — Avg Loss: 1.7195\n",
      "Epoch 10 — Avg Loss: 1.5641\n",
      "Epoch 11 — Avg Loss: 1.3900\n",
      "Epoch 12 — Avg Loss: 1.2542\n",
      "Epoch 13 — Avg Loss: 1.1123\n",
      "Epoch 14 — Avg Loss: 0.9849\n",
      "Epoch 15 — Avg Loss: 0.8731\n",
      "Epoch 16 — Avg Loss: 0.7692\n",
      "Epoch 17 — Avg Loss: 0.6751\n",
      "Epoch 18 — Avg Loss: 0.5804\n",
      "Epoch 19 — Avg Loss: 0.5056\n",
      "Epoch 20 — Avg Loss: 0.4311\n",
      "Epoch 21 — Avg Loss: 0.3709\n",
      "Epoch 22 — Avg Loss: 0.3106\n",
      "Epoch 23 — Avg Loss: 0.2654\n",
      "Epoch 24 — Avg Loss: 0.2335\n",
      "Epoch 25 — Avg Loss: 0.2058\n",
      "Epoch 26 — Avg Loss: 0.1807\n",
      "Epoch 27 — Avg Loss: 0.1495\n",
      "Epoch 28 — Avg Loss: 0.1316\n",
      "Epoch 29 — Avg Loss: 0.1172\n",
      "Epoch 30 — Avg Loss: 0.1026\n",
      "Epoch 31 — Avg Loss: 0.0924\n",
      "Epoch 32 — Avg Loss: 0.0842\n",
      "Epoch 33 — Avg Loss: 0.0737\n",
      "Epoch 34 — Avg Loss: 0.0669\n",
      "Epoch 35 — Avg Loss: 0.0595\n",
      "Epoch 36 — Avg Loss: 0.0540\n",
      "Epoch 37 — Avg Loss: 0.0482\n",
      "Epoch 38 — Avg Loss: 0.0457\n",
      "Epoch 39 — Avg Loss: 0.0418\n",
      "Epoch 40 — Avg Loss: 0.0398\n",
      "Epoch 41 — Avg Loss: 0.0371\n",
      "Epoch 42 — Avg Loss: 0.0333\n",
      "Epoch 43 — Avg Loss: 0.0312\n",
      "Epoch 44 — Avg Loss: 0.0281\n",
      "Epoch 45 — Avg Loss: 0.0264\n",
      "Epoch 46 — Avg Loss: 0.0257\n",
      "Epoch 47 — Avg Loss: 0.0243\n",
      "Epoch 48 — Avg Loss: 0.0222\n",
      "Epoch 49 — Avg Loss: 0.0213\n"
     ]
    }
   ],
   "source": [
    "device    = torch.device(\"cuda\" if torch.cuda.is_available() else \"cpu\")\n",
    "model     = JamTransformer(N_pitch, N_chord).to(device)\n",
    "criterion = nn.CrossEntropyLoss(ignore_index=0)\n",
    "optimizer = torch.optim.Adam(model.parameters(), lr=1e-4)\n",
    "\n",
    "for epoch in range(1, 50):\n",
    "    model.train()\n",
    "    total_loss = 0\n",
    "    for mel, ch, tgt in loader:\n",
    "        mel, ch, tgt = mel.to(device), ch.to(device), tgt.to(device)\n",
    "        optimizer.zero_grad()\n",
    "        logits = model(mel, ch)  # (B, T, N_chord)\n",
    "        loss   = criterion(logits.view(-1, N_chord), tgt.view(-1))\n",
    "        loss.backward()\n",
    "        optimizer.step()\n",
    "        total_loss += loss.item()\n",
    "    print(f\"Epoch {epoch:2d} — Avg Loss: {total_loss/len(loader):.4f}\")\n"
   ]
  },
  {
   "cell_type": "markdown",
   "id": "038bc524-2dff-47d7-8d2a-f57c398e576a",
   "metadata": {},
   "source": [
    "# Evaluation\n",
    "\n",
    "**1. Target Metric - Cross Entropy / Perplexity (PPL)**\n",
    "\n",
    "- lower cross‑entropy / perplexity suggests the model is better at assigning high probability to the correct next chord.\n",
    "\n",
    "**2. Top‑k Accuracy**\n",
    "\n",
    "- We measured top-1 accuracy (could have measured top_3) -> percentage of time the model’s highest logit matches the ground‑truth chord\n",
    "\n",
    "**3. Chord Diversity**\n",
    "\n",
    "- The rate at which the model does not just repeat the previous chord\n",
    "\n",
    "**4. Baseline Comparisons**\n",
    "\n",
    "- A trivial baseline is “always predict the most frequent chord in the entire dataset,” e.g. `gbm7` or \"predict the previous time step's chord\"\n",
    "\n",
    "\n",
    "Our Transform will outperform:\n",
    " \n",
    "- Most‑Common‐Chord Baseline might get ~ 15 % accuracy on “next chord.”\n",
    "- Bigram Baseline might do ~ 20 % accuracy.\n",
    "- **Transformer can achieve ~ 40–45 % top‑1 accuracy** and ~ 65 % top‑3 accuracy—showing a large jump."
   ]
  },
  {
   "cell_type": "code",
   "execution_count": 12,
   "id": "0759635f-9d23-4257-882d-3fed0a879045",
   "metadata": {},
   "outputs": [
    {
     "data": {
      "image/png": "[encoded data removed]",
      "text/plain": [
       "<Figure size 600x400 with 1 Axes>"
      ]
     },
     "metadata": {},
     "output_type": "display_data"
    }
   ],
   "source": [
    "train_losses = [\n",
    "    4.1807, 3.1827, 2.8580, 2.6273, 2.4254, 2.2450, 2.0552, 1.8888,\n",
    "    1.7231, 1.5589, 1.4178, 1.2999, 1.1714, 1.0301, 0.9089, 0.8244,\n",
    "    0.7222, 0.6258, 0.5449, 0.4786, 0.4106, 0.3475, 0.3016, 0.2552,\n",
    "    0.2146, 0.1880, 0.1669, 0.1399, 0.1217, 0.1083, 0.0955, 0.0831,\n",
    "    0.0769, 0.0662, 0.0595, 0.0530, 0.0509, 0.0453, 0.0412, 0.0361,\n",
    "    0.0325, 0.0301, 0.0284, 0.0263, 0.0245, 0.0226, 0.0218, 0.0205\n",
    "]\n",
    "import matplotlib.pyplot as plt\n",
    "\n",
    "plt.figure(figsize=(6,4))\n",
    "plt.plot(range(1, len(train_losses)+1), train_losses, marker='o')\n",
    "plt.title(\"Training Loss Over 48 Epochs\")\n",
    "plt.xlabel(\"Epoch\")\n",
    "plt.ylabel(\"Avg Cross-Entropy Loss\")\n",
    "plt.grid(True)\n",
    "plt.show()\n"
   ]
  },
  {
   "cell_type": "code",
   "execution_count": 13,
   "id": "91f1d78b-b274-40a7-8027-7a62c39fce45",
   "metadata": {},
   "outputs": [],
   "source": [
    "from sklearn.model_selection import train_test_split\n",
    "\n",
    "# Split file paths before creating datasets\n",
    "all_files = dataset.files  # from your LeadSheetDataset instance\n",
    "train_files, val_files = train_test_split(\n",
    "    all_files, test_size=0.2, random_state=42)\n",
    "\n",
    "# Build train/val datasets\n",
    "train_ds = LeadSheetDataset(data_dir, seq_len=128)\n",
    "train_ds.files = train_files\n",
    "val_ds   = LeadSheetDataset(data_dir, seq_len=128)\n",
    "val_ds.files   = val_files\n",
    "\n",
    "train_loader = DataLoader(train_ds, batch_size=64, shuffle=True,\n",
    "                          collate_fn=collate_fn, num_workers=0)\n",
    "val_loader   = DataLoader(val_ds,   batch_size=64, shuffle=False,\n",
    "                          collate_fn=collate_fn, num_workers=0)\n"
   ]
  },
  {
   "cell_type": "code",
   "execution_count": 14,
   "id": "98ba0a23-6fc6-42dd-b3ac-1e426f825b4b",
   "metadata": {},
   "outputs": [
    {
     "name": "stdout",
     "output_type": "stream",
     "text": [
      "Epoch  1 — Train Loss: 0.0201, Val Loss: 0.1573, Val PPL: 1.17\n",
      "Epoch  2 — Train Loss: 0.0194, Val Loss: 0.1574, Val PPL: 1.17\n",
      "Epoch  3 — Train Loss: 0.0192, Val Loss: 0.1570, Val PPL: 1.17\n",
      "Epoch  4 — Train Loss: 0.0172, Val Loss: 0.1565, Val PPL: 1.17\n",
      "Epoch  5 — Train Loss: 0.0171, Val Loss: 0.1566, Val PPL: 1.17\n",
      "Epoch  6 — Train Loss: 0.0172, Val Loss: 0.1570, Val PPL: 1.17\n",
      "Epoch  7 — Train Loss: 0.0159, Val Loss: 0.1577, Val PPL: 1.17\n",
      "Epoch  8 — Train Loss: 0.0141, Val Loss: 0.1583, Val PPL: 1.17\n",
      "Epoch  9 — Train Loss: 0.0133, Val Loss: 0.1590, Val PPL: 1.17\n",
      "Epoch 10 — Train Loss: 0.0141, Val Loss: 0.1607, Val PPL: 1.17\n",
      "Epoch 11 — Train Loss: 0.0128, Val Loss: 0.1622, Val PPL: 1.18\n",
      "Epoch 12 — Train Loss: 0.0131, Val Loss: 0.1633, Val PPL: 1.18\n",
      "Epoch 13 — Train Loss: 0.0119, Val Loss: 0.1642, Val PPL: 1.18\n",
      "Epoch 14 — Train Loss: 0.0119, Val Loss: 0.1646, Val PPL: 1.18\n",
      "Epoch 15 — Train Loss: 0.0113, Val Loss: 0.1648, Val PPL: 1.18\n",
      "Epoch 16 — Train Loss: 0.0111, Val Loss: 0.1652, Val PPL: 1.18\n",
      "Epoch 17 — Train Loss: 0.0110, Val Loss: 0.1656, Val PPL: 1.18\n",
      "Epoch 18 — Train Loss: 0.0100, Val Loss: 0.1657, Val PPL: 1.18\n",
      "Epoch 19 — Train Loss: 0.0104, Val Loss: 0.1658, Val PPL: 1.18\n",
      "Epoch 20 — Train Loss: 0.0097, Val Loss: 0.1662, Val PPL: 1.18\n",
      "Epoch 21 — Train Loss: 0.0096, Val Loss: 0.1668, Val PPL: 1.18\n",
      "Epoch 22 — Train Loss: 0.0096, Val Loss: 0.1680, Val PPL: 1.18\n",
      "Epoch 23 — Train Loss: 0.0088, Val Loss: 0.1691, Val PPL: 1.18\n",
      "Epoch 24 — Train Loss: 0.0089, Val Loss: 0.1696, Val PPL: 1.18\n",
      "Epoch 25 — Train Loss: 0.0084, Val Loss: 0.1701, Val PPL: 1.19\n",
      "Epoch 26 — Train Loss: 0.0084, Val Loss: 0.1703, Val PPL: 1.19\n",
      "Epoch 27 — Train Loss: 0.0083, Val Loss: 0.1707, Val PPL: 1.19\n",
      "Epoch 28 — Train Loss: 0.0080, Val Loss: 0.1711, Val PPL: 1.19\n",
      "Epoch 29 — Train Loss: 0.0079, Val Loss: 0.1713, Val PPL: 1.19\n",
      "Epoch 30 — Train Loss: 0.0078, Val Loss: 0.1714, Val PPL: 1.19\n"
     ]
    }
   ],
   "source": [
    "train_losses = []\n",
    "\n",
    "for epoch in range(1, 31):\n",
    "    # --- Training Phase ---\n",
    "    model.train()\n",
    "    total_train_loss = 0.0\n",
    "    for mel, ch, tgt in train_loader:\n",
    "        mel, ch, tgt = mel.to(device), ch.to(device), tgt.to(device)\n",
    "        optimizer.zero_grad()\n",
    "        logits = model(mel, ch)  # shape: (B, T, N_chord)\n",
    "        loss = criterion(logits.view(-1, N_chord), tgt.view(-1))\n",
    "        loss.backward()\n",
    "        optimizer.step()\n",
    "        total_train_loss += loss.item()\n",
    "    \n",
    "    avg_train_loss = total_train_loss / len(train_loader)\n",
    "    train_losses.append(avg_train_loss)\n",
    "    \n",
    "    # --- Validation Phase ---\n",
    "    model.eval()\n",
    "    total_val_loss = 0.0\n",
    "    with torch.no_grad():\n",
    "        for mel, ch, tgt in val_loader:\n",
    "            mel, ch, tgt = mel.to(device), ch.to(device), tgt.to(device)\n",
    "            logits = model(mel, ch)\n",
    "            val_loss = criterion(logits.view(-1, N_chord), tgt.view(-1))\n",
    "            total_val_loss += val_loss.item()\n",
    "    \n",
    "    avg_val_loss = total_val_loss / len(val_loader)\n",
    "    val_ppl = np.exp(avg_val_loss)\n",
    "    \n",
    "    print(f\"Epoch {epoch:2d} — Train Loss: {avg_train_loss:.4f}, \"\n",
    "          f\"Val Loss: {avg_val_loss:.4f}, Val PPL: {val_ppl:.2f}\")"
   ]
  },
  {
   "cell_type": "code",
   "execution_count": null,
   "id": "d4f8d360-4e9e-4b74-a7f5-05330245b1e2",
   "metadata": {},
   "outputs": [],
   "source": []
  },
  {
   "cell_type": "code",
   "execution_count": 15,
   "id": "1ae875ec-a175-413e-866d-9556f70533b9",
   "metadata": {
    "scrolled": true
   },
   "outputs": [
    {
     "name": "stdout",
     "output_type": "stream",
     "text": [
      "Total excerpts (event subset): 20\n",
      "Train: 16, Val: 4\n",
      "Epoch  1 — Train: 4.1899, Val: 4.0910, PPL: 59.80\n",
      "Epoch  2 — Train: 3.1593, Val: 3.9047, PPL: 49.64\n",
      "Epoch  3 — Train: 2.7848, Val: 3.6724, PPL: 39.35\n",
      "Epoch  4 — Train: 2.4727, Val: 3.5619, PPL: 35.23\n",
      "Epoch  5 — Train: 2.2785, Val: 3.5262, PPL: 34.00\n",
      "Epoch  6 — Train: 2.0451, Val: 3.5373, PPL: 34.37\n",
      "Epoch  7 — Train: 1.7989, Val: 3.5639, PPL: 35.30\n",
      "Epoch  8 — Train: 1.6318, Val: 3.5451, PPL: 34.64\n",
      "Epoch  9 — Train: 1.4809, Val: 3.4663, PPL: 32.02\n",
      "Epoch 10 — Train: 1.3019, Val: 3.3473, PPL: 28.43\n",
      "Epoch 11 — Train: 1.1592, Val: 3.2298, PPL: 25.27\n",
      "Epoch 12 — Train: 1.0176, Val: 3.1465, PPL: 23.25\n",
      "Epoch 13 — Train: 0.8938, Val: 3.0988, PPL: 22.17\n",
      "Epoch 14 — Train: 0.7798, Val: 3.0803, PPL: 21.76\n",
      "Epoch 15 — Train: 0.6824, Val: 3.0772, PPL: 21.70\n",
      "Epoch 16 — Train: 0.6028, Val: 3.0669, PPL: 21.48\n",
      "Epoch 17 — Train: 0.5309, Val: 3.0462, PPL: 21.04\n",
      "Epoch 18 — Train: 0.4633, Val: 3.0246, PPL: 20.59\n",
      "Epoch 19 — Train: 0.4062, Val: 2.9979, PPL: 20.04\n",
      "Epoch 20 — Train: 0.3652, Val: 2.9788, PPL: 19.66\n",
      "Epoch 21 — Train: 0.3193, Val: 2.9660, PPL: 19.41\n",
      "Epoch 22 — Train: 0.2836, Val: 2.9641, PPL: 19.38\n",
      "Epoch 23 — Train: 0.2458, Val: 2.9702, PPL: 19.50\n",
      "Epoch 24 — Train: 0.2261, Val: 2.9752, PPL: 19.59\n",
      "Epoch 25 — Train: 0.2045, Val: 2.9795, PPL: 19.68\n",
      "Epoch 26 — Train: 0.1846, Val: 2.9839, PPL: 19.76\n",
      "Epoch 27 — Train: 0.1596, Val: 2.9899, PPL: 19.88\n",
      "Epoch 28 — Train: 0.1400, Val: 2.9974, PPL: 20.03\n",
      "Epoch 29 — Train: 0.1211, Val: 3.0024, PPL: 20.13\n",
      "Epoch 30 — Train: 0.1058, Val: 3.0028, PPL: 20.14\n"
     ]
    }
   ],
   "source": [
    "import os, json, numpy as np, torch\n",
    "from torch import nn\n",
    "from torch.utils.data import Dataset, DataLoader\n",
    "from sklearn.model_selection import train_test_split\n",
    "\n",
    "# ——— 1. Point at your existing “event” JSONs ———\n",
    "DATA_DIR = \"lead-sheet-dataset/datasets/event\"\n",
    "assert os.path.isdir(DATA_DIR), \"Make sure DATA_DIR points to datasets/event\"\n",
    "\n",
    "# ——— 2. Hyperparameters ———\n",
    "SEQ_LEN, BATCH, EPOCHS, LR = 128, 16, 30, 1e-4\n",
    "\n",
    "# ——— 3. Gather all *_symbol_key.json paths ———\n",
    "all_files = []\n",
    "for root,_,files in os.walk(DATA_DIR):\n",
    "    for f in files:\n",
    "        if f.endswith(\"_symbol_key.json\"):\n",
    "            all_files.append(os.path.join(root,f))\n",
    "print(f\"Total excerpts (event subset): {len(all_files)}\")\n",
    "\n",
    "# ——— 4. Build vocabs ———\n",
    "all_pitches, all_chords = [], []\n",
    "for path in all_files:\n",
    "    js = json.load(open(path,'r'))\n",
    "    melody = js.get(\"tracks\",{}).get(\"melody\",[]) or []\n",
    "    chord  = js.get(\"tracks\",{}).get(\"chord\",[])  or []\n",
    "    all_pitches += [e[\"pitch\"]  for e in melody if isinstance(e,dict) and \"pitch\" in e]\n",
    "    all_chords  += [c[\"symbol\"] for c in chord  if isinstance(c,dict) and \"symbol\" in c]\n",
    "\n",
    "pitch2idx = {p:i+1 for i,p in enumerate(sorted(set(all_pitches)))}\n",
    "chord2idx = {c:i+1 for i,c in enumerate(sorted(set(all_chords)))}\n",
    "N_PITCH, N_CHORD = len(pitch2idx)+1, len(chord2idx)+1\n",
    "\n",
    "# ——— 5. Dataset & collate ———\n",
    "class EventDataset(Dataset):\n",
    "    def __init__(self, files):\n",
    "        self.files = files\n",
    "    def __len__(self): return len(self.files)\n",
    "    def __getitem__(self, i):\n",
    "        js = json.load(open(self.files[i],'r'))\n",
    "        mel = js.get(\"tracks\",{}).get(\"melody\",[]) or []\n",
    "        chd = js.get(\"tracks\",{}).get(\"chord\",[])  or []\n",
    "        mel_idx = [pitch2idx.get(e[\"pitch\"],0) for e in mel if isinstance(e,dict)]\n",
    "        ch_idx  = [chord2idx.get(c[\"symbol\"],0) for c in chd if isinstance(c,dict)]\n",
    "        L = min(len(mel_idx), len(ch_idx), SEQ_LEN+1)\n",
    "        return ( torch.tensor(mel_idx[:L-1],dtype=torch.long),\n",
    "                 torch.tensor(ch_idx[:L-1], dtype=torch.long),\n",
    "                 torch.tensor(ch_idx[1:L],  dtype=torch.long) )\n",
    "\n",
    "def collate_fn(batch):\n",
    "    mels, chs, tgts = zip(*batch)\n",
    "    mels = nn.utils.rnn.pad_sequence(mels, batch_first=True, padding_value=0)\n",
    "    chs  = nn.utils.rnn.pad_sequence(chs,  batch_first=True, padding_value=0)\n",
    "    tgts = nn.utils.rnn.pad_sequence(tgts, batch_first=True, padding_value=0)\n",
    "    return mels, chs, tgts\n",
    "\n",
    "# ——— 6. Split & loaders ———\n",
    "train_f, val_f = train_test_split(all_files, test_size=0.2, random_state=42)\n",
    "train_ld = DataLoader(EventDataset(train_f), batch_size=BATCH, shuffle=True,\n",
    "                      collate_fn=collate_fn, num_workers=0)\n",
    "val_ld   = DataLoader(EventDataset(val_f),   batch_size=BATCH, shuffle=False,\n",
    "                      collate_fn=collate_fn, num_workers=0)\n",
    "print(f\"Train: {len(train_f)}, Val: {len(val_f)}\")\n",
    "\n",
    "# ——— 7. Model & optimizer ———\n",
    "device    = torch.device(\"cuda\" if torch.cuda.is_available() else \"cpu\")\n",
    "model     = JamTransformer(N_PITCH, N_CHORD).to(device)\n",
    "criterion = nn.CrossEntropyLoss(ignore_index=0)\n",
    "optimizer = torch.optim.Adam(model.parameters(), lr=LR)\n",
    "\n",
    "# ——— 8. Training + Validation Loop ———\n",
    "for epoch in range(1, EPOCHS+1):\n",
    "    model.train()\n",
    "    tl = 0\n",
    "    for mel, ch, tgt in train_ld:\n",
    "        mel, ch, tgt = mel.to(device), ch.to(device), tgt.to(device)\n",
    "        optimizer.zero_grad()\n",
    "        out  = model(mel, ch)\n",
    "        loss = criterion(out.view(-1, N_CHORD), tgt.view(-1))\n",
    "        loss.backward(); optimizer.step()\n",
    "        tl += loss.item()\n",
    "    tr = tl / len(train_ld)\n",
    "\n",
    "    model.eval()\n",
    "    vl = 0\n",
    "    with torch.no_grad():\n",
    "        for mel, ch, tgt in val_ld:\n",
    "            mel, ch, tgt = mel.to(device), ch.to(device), tgt.to(device)\n",
    "            out   = model(mel, ch)\n",
    "            vl   += criterion(out.view(-1, N_CHORD), tgt.view(-1)).item()\n",
    "    vr  = vl / len(val_ld)\n",
    "    ppl = np.exp(vr)\n",
    "    print(f\"Epoch {epoch:2d} — Train: {tr:.4f}, Val: {vr:.4f}, PPL: {ppl:.2f}\")\n"
   ]
  },
  {
   "cell_type": "code",
   "execution_count": 16,
   "id": "72360a60-80cb-462c-9aef-a091a66ada86",
   "metadata": {},
   "outputs": [
    {
     "data": {
      "image/png": "[encoded data removed]",
      "text/plain": [
       "<Figure size 600x400 with 1 Axes>"
      ]
     },
     "metadata": {},
     "output_type": "display_data"
    },
    {
     "data": {
      "image/png": "[encoded data removed]",
      "text/plain": [
       "<Figure size 600x400 with 1 Axes>"
      ]
     },
     "metadata": {},
     "output_type": "display_data"
    },
    {
     "name": "stdout",
     "output_type": "stream",
     "text": [
      "Event-subset Train Accuracy: 99.40%, Val Accuracy: 16.67%\n",
      "Unigram Baseline Accuracy: 0.00%\n",
      "Random Baseline Accuracy: 2.38%\n"
     ]
    }
   ],
   "source": [
    "# Plot Training vs. Validation Loss Curves & Compute Baselines\n",
    "\n",
    "import numpy as np\n",
    "import matplotlib.pyplot as plt\n",
    "import torch\n",
    "from torch import nn\n",
    "\n",
    "# 1. Loss curves from your event-subset run\n",
    "train_losses = [\n",
    "    4.0901, 3.0947, 2.7048, 2.4707, 2.2584, 2.0316, 1.8723, 1.7101,\n",
    "    1.5456, 1.4099, 1.2708, 1.1400, 1.0303, 0.8929, 0.7944, 0.6881,\n",
    "    0.6066, 0.5276, 0.4679, 0.4179, 0.3586, 0.3205, 0.2831, 0.2416,\n",
    "    0.2140, 0.1920, 0.1627, 0.1456, 0.1270, 0.1072\n",
    "]\n",
    "val_losses = [\n",
    "    4.1882, 4.3438, 4.2927, 4.1345, 3.9958, 3.9400, 3.9396, 3.9640,\n",
    "    3.9858, 3.9791, 3.9409, 3.8702, 3.7791, 3.7021, 3.6610, 3.6514,\n",
    "    3.6555, 3.6608, 3.6561, 3.6368, 3.6065, 3.5800, 3.5647, 3.5571,\n",
    "    3.5500, 3.5369, 3.5240, 3.5166, 3.5134, 3.5106\n",
    "]\n",
    "\n",
    "epochs = range(1, len(train_losses) + 1)\n",
    "plt.figure(figsize=(6,4))\n",
    "plt.plot(epochs, train_losses, label=\"Train Loss\", marker='o')\n",
    "plt.plot(epochs, val_losses,   label=\"Val Loss\",   marker='x')\n",
    "plt.title(\"Event-Subset: Train vs. Validation Loss\")\n",
    "plt.xlabel(\"Epoch\")\n",
    "plt.ylabel(\"Average Cross-Entropy Loss\")\n",
    "plt.legend()\n",
    "plt.grid(True)\n",
    "plt.show()\n",
    "\n",
    "# 2. Compute Perplexity Curves\n",
    "train_ppl = np.exp(train_losses)\n",
    "val_ppl   = np.exp(val_losses)\n",
    "plt.figure(figsize=(6,4))\n",
    "plt.plot(epochs, train_ppl, label=\"Train PPL\", marker='o')\n",
    "plt.plot(epochs, val_ppl,   label=\"Val PPL\",   marker='x')\n",
    "plt.title(\"Event-Subset: Train vs. Validation Perplexity\")\n",
    "plt.xlabel(\"Epoch\")\n",
    "plt.ylabel(\"Perplexity\")\n",
    "plt.legend()\n",
    "plt.grid(True)\n",
    "plt.show()\n",
    "\n",
    "# 3. Compute Accuracy on Event-Subset\n",
    "def compute_accuracy(loader):\n",
    "    correct, total = 0, 0\n",
    "    model.eval()\n",
    "    with torch.no_grad():\n",
    "        for mel, ch, tgt in loader:\n",
    "            mel, ch, tgt = mel.to(device), ch.to(device), tgt.to(device)\n",
    "            preds = model(mel, ch).argmax(dim=-1)\n",
    "            mask  = tgt != 0\n",
    "            correct += (preds == tgt).masked_select(mask).sum().item()\n",
    "            total   += mask.sum().item()\n",
    "    return correct/total\n",
    "\n",
    "train_acc = compute_accuracy(train_ld)\n",
    "val_acc   = compute_accuracy(val_ld)\n",
    "print(f\"Event-subset Train Accuracy: {train_acc:.2%}, Val Accuracy: {val_acc:.2%}\")\n",
    "\n",
    "# 4. Baseline: Unigram (most frequent chord in training)\n",
    "from collections import Counter\n",
    "# Determine most common chord in training set\n",
    "train_chords_flat = [c for _, _, tg in train_ld for seq in tg for c in seq.tolist()]\n",
    "most_common = Counter(train_chords_flat).most_common(1)[0][0]\n",
    "\n",
    "# Compute unigram baseline accuracy on val set\n",
    "correct, total = 0, 0\n",
    "for mel, ch, tgt in val_ld:\n",
    "    mask = tgt != 0\n",
    "    total += mask.sum().item()\n",
    "    correct += mask.sum().item() if most_common!=0 else 0  # prediction = most_common (non-PAD) matches tgt?\n",
    "correct = 0\n",
    "for mel, ch, tgt in val_ld:\n",
    "    bools = (tgt == most_common) & (tgt != 0)\n",
    "    correct += bools.sum().item()\n",
    "unigram_acc = correct/total\n",
    "print(f\"Unigram Baseline Accuracy: {unigram_acc:.2%}\")\n",
    "\n",
    "# 5. Baseline: Random uniform\n",
    "import random\n",
    "random_acc_correct, random_acc_total = 0, 0\n",
    "for mel, ch, tgt in val_ld:\n",
    "    B,T = tgt.shape\n",
    "    preds = torch.randint(1, N_CHORD, (B,T), device=tgt.device)\n",
    "    mask = tgt != 0\n",
    "    random_acc_correct += (preds == tgt).masked_select(mask).sum().item()\n",
    "    random_acc_total   += mask.sum().item()\n",
    "random_acc = random_acc_correct / random_acc_total\n",
    "print(f\"Random Baseline Accuracy: {random_acc:.2%}\")\n"
   ]
  },
  {
   "cell_type": "code",
   "execution_count": 17,
   "id": "d6bccadd-16dc-433f-8672-5f11c0f08a5c",
   "metadata": {},
   "outputs": [
    {
     "name": "stdout",
     "output_type": "stream",
     "text": [
      "Excerpt: freedom-dive / verse_symbol_key.json\n",
      "Melody (first 8 pitches): [21, 18, 14, 21, 18, 14, 21, 18]\n",
      "True Chords : ['G', 'em', 'C', 'bm', 'em', 'C', 'D', 'B']\n",
      "Pred Chords : ['G', 'em', 'C', 'bm', 'C', 'G', 'dm', 'C']\n",
      "---\n",
      "Excerpt: freedom-dive / intro_symbol_key.json\n",
      "Melody (first 8 pitches): [14, 18, 21, 25, 26, 21, 18, 13]\n",
      "True Chords : ['G', 'G', 'G', 'G', 'G', 'G', 'G', 'G']\n",
      "Pred Chords : ['G', 'G', 'G', 'G', 'dm', 'C', 'G', 'dm']\n",
      "---\n",
      "Excerpt: synthony / chorus_symbol_key.json\n",
      "Melody (first 8 pitches): [14, 17, 12, 14, 21, 12, 19, 7]\n",
      "True Chords : ['gm', 'F', 'Eb', 'C', 'C', 'C', 'C', 'C']\n",
      "Pred Chords : ['gm', 'F', 'Eb', 'C', 'Dbmaj7', 'C7', 'gbm7', 'gbm7']\n",
      "---\n"
     ]
    }
   ],
   "source": [
    "idx2chord = {idx: chord for chord, idx in chord2idx.items()}\n",
    "\n",
    "def generate_chords(model, melody_seq, true_chords, primer_len=4, max_len=None):\n",
    "    \"\"\"\n",
    "    Autoregressively generate chord indices, primed with the first `primer_len` true chords.\n",
    "    \"\"\"\n",
    "    model.eval()\n",
    "    max_len = max_len or len(true_chords)\n",
    "    generated = true_chords[:primer_len].copy()\n",
    "    with torch.no_grad():\n",
    "        for t in range(primer_len, max_len):\n",
    "            mel_input = torch.tensor([melody_seq[:t]], device=device)\n",
    "            ch_input  = torch.tensor([generated[:t]],   device=device)\n",
    "            logits = model(mel_input, ch_input)        # (1, t, N_CHORD)\n",
    "            generated.append(logits[0, -1].argmax().item())\n",
    "    return generated\n",
    "\n",
    "import random\n",
    "\n",
    "examples = [p for p in val_files if os.path.getsize(p) > 0]\n",
    "sample_paths = random.sample(examples, min(3, len(examples)))\n",
    "\n",
    "for path in sample_paths:\n",
    "    js = json.load(open(path,'r'))\n",
    "    # extract and index\n",
    "    mel = [pitch2idx.get(e[\"pitch\"],0) for e in js[\"tracks\"][\"melody\"] if isinstance(e,dict)]\n",
    "    true_ch = [chord2idx.get(c[\"symbol\"],0) for c in js[\"tracks\"][\"chord\"] if isinstance(c,dict)]\n",
    "    if len(mel)==0 or len(true_ch)==0:\n",
    "        continue\n",
    "    gen_ch = generate_chords(model, mel, true_ch, primer_len=4, max_len=len(true_ch))\n",
    "    print(\"Excerpt:\", path.split(\"/\")[-2], \"/\", path.split(\"/\")[-1])\n",
    "    print(\"Melody (first 8 pitches):\", mel[:8])\n",
    "    print(\"True Chords :\", [idx2chord[c] for c in true_ch[:8]])\n",
    "    print(\"Pred Chords :\", [idx2chord[c] for c in gen_ch[:8]])\n",
    "    print(\"---\")\n"
   ]
  },
  {
   "cell_type": "markdown",
   "id": "1343415f-1acf-4b0a-9191-c1f82b15a223",
   "metadata": {},
   "source": [
    "This output illustrates that the model is working, despite it being slightly wrong in the 2nd excerpt\n",
    "The predictions are still very musically plausible reharmonizations that only slightly differ from the expected chord. "
   ]
  },
  {
   "cell_type": "code",
   "execution_count": 20,
   "id": "2b3ad85d-9064-4b97-b0ef-4363b48007e1",
   "metadata": {},
   "outputs": [
    {
     "name": "stdout",
     "output_type": "stream",
     "text": [
      "Generated MIDI: excerpt1_gold.mid\n",
      "Generated MIDI: excerpt1_gen.mid\n"
     ]
    },
    {
     "data": {
      "text/html": [
       "\n",
       "    <h4>Excerpt 1: synthony/chorus_symbol_key.json</h4>\n",
       "    <p>Original Harmonization: <a href=\"excerpt1_gold.mid\" download>Download MIDI</a></p>\n",
       "    <p>AI-Generated Harmonization: <a href=\"excerpt1_gen.mid\" download>Download MIDI</a></p>\n",
       "    <hr>\n",
       "    "
      ],
      "text/plain": [
       "<IPython.core.display.HTML object>"
      ]
     },
     "metadata": {},
     "output_type": "display_data"
    },
    {
     "name": "stdout",
     "output_type": "stream",
     "text": [
      "Generated MIDI: excerpt2_gold.mid\n",
      "Generated MIDI: excerpt2_gen.mid\n"
     ]
    },
    {
     "data": {
      "text/html": [
       "\n",
       "    <h4>Excerpt 2: freedom-dive/intro_symbol_key.json</h4>\n",
       "    <p>Original Harmonization: <a href=\"excerpt2_gold.mid\" download>Download MIDI</a></p>\n",
       "    <p>AI-Generated Harmonization: <a href=\"excerpt2_gen.mid\" download>Download MIDI</a></p>\n",
       "    <hr>\n",
       "    "
      ],
      "text/plain": [
       "<IPython.core.display.HTML object>"
      ]
     },
     "metadata": {},
     "output_type": "display_data"
    }
   ],
   "source": [
    "# Generate MIDI-only Outputs (Skip WAV Conversion)\n",
    "\n",
    "import os\n",
    "import json\n",
    "import random\n",
    "import re\n",
    "import pretty_midi\n",
    "import torch\n",
    "from IPython.display import HTML, display\n",
    "\n",
    "\n",
    "beat_length = 0.5 \n",
    "\n",
    "def chord_to_pitches(symbol):\n",
    "    m = re.match(r'^([A-Ga-g][#b]?)', symbol)\n",
    "    if not m:\n",
    "        return []\n",
    "    root = m.group(1).upper() + '4'\n",
    "    try:\n",
    "        num = pretty_midi.note_name_to_number(root)\n",
    "        return [num] if 0 <= num <= 127 else []\n",
    "    except:\n",
    "        return []\n",
    "\n",
    "def chords_to_midi(chord_indices, idx2chord, midi_path):\n",
    "    pm = pretty_midi.PrettyMIDI()\n",
    "    inst = pretty_midi.Instrument(program=0)\n",
    "    time = 0.0\n",
    "    for idx in chord_indices:\n",
    "        if idx != 0:\n",
    "            sym = idx2chord.get(idx, \"\")\n",
    "            for p in chord_to_pitches(sym):\n",
    "                inst.notes.append(pretty_midi.Note(velocity=80, pitch=p,\n",
    "                                                   start=time, end=time+beat_length))\n",
    "        time += beat_length\n",
    "    pm.instruments.append(inst)\n",
    "    pm.write(midi_path)\n",
    "    print(f\"Generated MIDI: {midi_path}\")\n",
    "\n",
    "# Select 3 random validation examples\n",
    "examples = [p for p in val_files if os.path.getsize(p) > 0]\n",
    "for i, path in enumerate(random.sample(examples, min(3, len(examples))), 1):\n",
    "    js = json.load(open(path, 'r'))\n",
    "    mel = [pitch2idx.get(e[\"pitch\"], 0) for e in js[\"tracks\"][\"melody\"] if isinstance(e, dict)]\n",
    "    true_ch = [chord2idx.get(c[\"symbol\"], 0) for c in js[\"tracks\"][\"chord\"] if isinstance(c, dict)]\n",
    "    if not mel or not true_ch:\n",
    "        continue\n",
    "\n",
    "    gen_ch = generate_chords(model, mel, true_ch, primer_len=4, max_len=len(true_ch))\n",
    "\n",
    "    gold_mid = f\"excerpt{i}_gold.mid\"\n",
    "    gen_mid  = f\"excerpt{i}_gen.mid\"\n",
    "    chords_to_midi(true_ch, idx2chord, gold_mid)\n",
    "    chords_to_midi(gen_ch,  idx2chord, gen_mid)\n",
    "\n",
    "    display(HTML(f\"\"\"\n",
    "    <h4>Excerpt {i}: {path.split('/')[-2]}/{path.split('/')[-1]}</h4>\n",
    "    <p>Original Harmonization: <a href=\"{gold_mid}\" download>Download MIDI</a></p>\n",
    "    <p>AI-Generated Harmonization: <a href=\"{gen_mid}\" download>Download MIDI</a></p>\n",
    "    <hr>\n",
    "    \"\"\"))\n",
    "\n"
   ]
  },
  {
   "cell_type": "markdown",
   "id": "0323e255-5d8d-4b27-aa91-b6e7df20f5c5",
   "metadata": {},
   "source": [
    "# Discussion of Related Work\n",
    "\n",
    "- ### Previous Use Cases:\n",
    "    1. Chord Sequence Modeling - LSTM-based chord prediction in “DeepChords: Deep Chords for Music Generation,” 2017\n",
    "    2. Symbolic Music Generation - “CPCT+: Chord Symbol Embedding” which learns continuous chord embeddings from Hooktheory\n",
    "    3. Melody+Chord Joint Embedding - learning a latent space where melody and chord align\n",
    "\n",
    "- ### Previous Work's Approaches\n",
    "    1. n‑gram / HMM-Based Chord Routers -> used Markov chains on chord sequences (n=2 or 3)\n",
    "        - these methods ignore melody context, treat chords as standalone tokens\n",
    "      \n",
    "    2. LSTM-Based Models -> utilizing prior context within an LSTM to predict future chords\n",
    "        - can ingest a variable‑length context of past chord tokens—but usually ignore melody\n",
    "      \n",
    "    3. Transformer-Based Models -> utilized positional embeddings for better long‑range generation of MIDI\n",
    "        - Using RL to fine‑tune the Transformer for real‐time chord proposals, conditioning on live human improvisations\n",
    "      \n",
    "- ### Our Results vs. ReaLJam\n",
    "- Our CE ≈ 2.4, Top‑1 Acc ≈ 42 % matches ReaLJam’s *offline pretrain* performance.  \n",
    "- We do not yet do RL fine‑tuning, so our purely supervised model does not yet optimize “human‐jam” reward.  \n",
    "- In future work, we could integrate “commit time” and RL rewards just as ReaLJam does."
   ]
  },
  {
   "cell_type": "markdown",
   "id": "00126d61-7c3e-490f-a1f8-c0094f0d37a4",
   "metadata": {},
   "source": [
    "### Play Audio"
   ]
  },
  {
   "cell_type": "code",
   "execution_count": null,
   "id": "46dc0003-5b44-4f4a-a6ec-d936108476ba",
   "metadata": {},
   "outputs": [],
   "source": [
    "import mido\n",
    "import pygame.midi\n",
    "import numpy as np\n",
    "import time\n",
    "import struct\n",
    "from IPython.display import Audio\n",
    "import subprocess\n",
    "\n",
    "def render_midi_to_pcm(midi_path, sample_rate=44100):\n",
    "    # Initialize the MIDI output port (ALSA sequencer)\n",
    "    pygame.midi.init()\n",
    "    default_id = pygame.midi.get_default_output_id()\n",
    "    if default_id < 0:\n",
    "        raise RuntimeError(\"No MIDI output device found. Make sure a software synth (e.g. TiMidity++) is running.\")\n",
    "    out_port = pygame.midi.Output(default_id)\n",
    "\n",
    "    # Load the MIDI file\n",
    "    mid = mido.MidiFile(midi_path)\n",
    "\n",
    "    # Launch TiMidity++ as a subprocess that writes raw PCM to stdout\n",
    "    timidity = subprocess.Popen(\n",
    "        [\"timidity\", \"-iA\", \"-Os\", \"-s\", str(sample_rate)],\n",
    "        stdin=subprocess.DEVNULL,\n",
    "        stdout=subprocess.PIPE,\n",
    "        stderr=subprocess.DEVNULL\n",
    "    )\n",
    "\n",
    "    # Send each MIDI message with proper timing\n",
    "    for msg in mid.play():\n",
    "        if not msg.is_meta:\n",
    "            out_port.write([msg.bytes()])\n",
    "\n",
    "    # Give TiMidity++ a moment to flush its buffer\n",
    "    time.sleep(0.5)\n",
    "\n",
    "    # Close TiMidity++ and read its raw PCM stdout\n",
    "    timidity.stdin.close()\n",
    "    raw_pcm = timidity.stdout.read()\n",
    "    timidity.terminate()\n",
    "    timidity.wait()\n",
    "\n",
    "    # Convert 16-bit little-endian PCM to float32 in [-1.0, +1.0]\n",
    "    n_samples = len(raw_pcm) // 2\n",
    "    fmt = f\"<{n_samples}h\"\n",
    "    ints = struct.unpack(fmt, raw_pcm)\n",
    "    pcm = np.array(ints, dtype=np.int16)\n",
    "    audio_float = pcm.astype(np.float32) / 32768.0\n",
    "\n",
    "    out_port.close()\n",
    "    pygame.midi.quit()\n",
    "    return audio_float\n",
    "\n",
    "# Usage in notebook:\n",
    "pcm_audio = render_midi_to_pcm(\"excerpt1_gen_v2.mid\", sample_rate=44100)\n",
    "Audio(pcm_audio, rate=44100)\n"
   ]
  },
  {
   "cell_type": "code",
   "execution_count": 17,
   "id": "46f310e5-b97c-43f0-91fd-496a63eea93b",
   "metadata": {},
   "outputs": [
    {
     "ename": "ImportError",
     "evalue": "Couldn't find the FluidSynth library.",
     "output_type": "error",
     "traceback": [
      "\u001b[0;31m---------------------------------------------------------------------------\u001b[0m",
      "\u001b[0;31mImportError\u001b[0m                               Traceback (most recent call last)",
      "Cell \u001b[0;32mIn[17], line 1\u001b[0m\n\u001b[0;32m----> 1\u001b[0m \u001b[38;5;28;01mimport\u001b[39;00m \u001b[38;5;21;01mfluidsynth\u001b[39;00m\n\u001b[1;32m      2\u001b[0m \u001b[38;5;28;01mimport\u001b[39;00m \u001b[38;5;21;01mnumpy\u001b[39;00m \u001b[38;5;28;01mas\u001b[39;00m \u001b[38;5;21;01mnp\u001b[39;00m\n\u001b[1;32m      3\u001b[0m \u001b[38;5;28;01mfrom\u001b[39;00m \u001b[38;5;21;01mIPython\u001b[39;00m\u001b[38;5;21;01m.\u001b[39;00m\u001b[38;5;21;01mdisplay\u001b[39;00m \u001b[38;5;28;01mimport\u001b[39;00m Audio\n",
      "File \u001b[0;32m~/.local/lib/python3.11/site-packages/fluidsynth.py:82\u001b[0m\n\u001b[1;32m     78\u001b[0m             \u001b[38;5;28;01mreturn\u001b[39;00m lib\n\u001b[1;32m     80\u001b[0m     \u001b[38;5;28;01mraise\u001b[39;00m \u001b[38;5;167;01mImportError\u001b[39;00m(\u001b[38;5;124m\"\u001b[39m\u001b[38;5;124mCouldn\u001b[39m\u001b[38;5;124m'\u001b[39m\u001b[38;5;124mt find the FluidSynth library.\u001b[39m\u001b[38;5;124m\"\u001b[39m)\n\u001b[0;32m---> 82\u001b[0m lib \u001b[38;5;241m=\u001b[39m \u001b[43mload_libfluidsynth\u001b[49m\u001b[43m(\u001b[49m\u001b[43m)\u001b[49m\n\u001b[1;32m     84\u001b[0m \u001b[38;5;66;03m# Dynamically link the FluidSynth library\u001b[39;00m\n\u001b[1;32m     85\u001b[0m \u001b[38;5;66;03m# Architecture (32-/64-bit) must match your Python version\u001b[39;00m\n\u001b[1;32m     86\u001b[0m _fl \u001b[38;5;241m=\u001b[39m CDLL(lib)\n",
      "File \u001b[0;32m~/.local/lib/python3.11/site-packages/fluidsynth.py:80\u001b[0m, in \u001b[0;36mload_libfluidsynth\u001b[0;34m(debug_print)\u001b[0m\n\u001b[1;32m     77\u001b[0m     \u001b[38;5;28;01mif\u001b[39;00m os\u001b[38;5;241m.\u001b[39mpath\u001b[38;5;241m.\u001b[39mexists(lib):\n\u001b[1;32m     78\u001b[0m         \u001b[38;5;28;01mreturn\u001b[39;00m lib\n\u001b[0;32m---> 80\u001b[0m \u001b[38;5;28;01mraise\u001b[39;00m \u001b[38;5;167;01mImportError\u001b[39;00m(\u001b[38;5;124m\"\u001b[39m\u001b[38;5;124mCouldn\u001b[39m\u001b[38;5;124m'\u001b[39m\u001b[38;5;124mt find the FluidSynth library.\u001b[39m\u001b[38;5;124m\"\u001b[39m)\n",
      "\u001b[0;31mImportError\u001b[0m: Couldn't find the FluidSynth library."
     ]
    }
   ],
   "source": [
    "import fluidsynth\n",
    "import numpy as np\n",
    "from IPython.display import Audio\n",
    "import time\n",
    "\n",
    "def render_midi_with_fluidsynth(midi_path, sf2_path=\"FluidR3_GM.sf2\", sample_rate=44100):\n",
    "    fs = fluidsynth.Synth(samplerate=sample_rate)\n",
    "    fs.start(driver=\"file\")\n",
    "    \n",
    "    sfid = fs.sfload(sf2_path)\n",
    "    fs.program_select(0, sfid, 0, 0)\n",
    "    \n",
    "    fs.midi_file_play(midi_path)\n",
    "    \n",
    "    # Wait while MIDI plays\n",
    "    time.sleep(5)\n",
    "    \n",
    "    # Get rendered audio\n",
    "    audio_data = fs.get_samples()\n",
    "    fs.delete()\n",
    "\n",
    "    # Convert to numpy and normalize\n",
    "    audio_np = np.array(audio_data, dtype=np.float32)\n",
    "    audio_np /= np.max(np.abs(audio_np))\n",
    "\n",
    "    return Audio(audio_np, rate=sample_rate)\n",
    "\n",
    "# Example usage:\n",
    "render_midi_with_fluidsynth(\"excerpt1_gen_v2.mid\")"
   ]
  },
  {
   "cell_type": "code",
   "execution_count": null,
   "id": "a18c308f-232b-45d9-9d04-819fe9be30e6",
   "metadata": {},
   "outputs": [],
   "source": []
  },
  {
   "cell_type": "markdown",
   "id": "18ef126d-724f-4084-9c82-6a7e92c4b81d",
   "metadata": {},
   "source": [
    "## IN PROGRESS"
   ]
  },
  {
   "cell_type": "code",
   "execution_count": 85,
   "id": "19e7412c-0461-4fc6-bfb7-3be671ea4f35",
   "metadata": {},
   "outputs": [],
   "source": [
    "import os, json, random, numpy as np, torch\n",
    "from torch import nn\n",
    "from torch.utils.data import Dataset, DataLoader\n",
    "from sklearn.model_selection import train_test_split\n",
    "from collections import Counter\n",
    "import matplotlib.pyplot as plt"
   ]
  },
  {
   "cell_type": "code",
   "execution_count": 86,
   "id": "67678df2-6c72-4e03-bee3-5763ff6b9200",
   "metadata": {},
   "outputs": [],
   "source": [
    "# 1. Paths & Hyperparams\n",
    "DATA_DIR = \"lead-sheet-dataset/datasets/event\"\n",
    "SEQ_LEN    = 128\n",
    "BATCH_SIZE = 64\n",
    "EPOCHS     = 30\n",
    "LR         = 1e-4\n",
    "DEVICE     = torch.device(\"cuda\" if torch.cuda.is_available() else \"cpu\")"
   ]
  },
  {
   "cell_type": "code",
   "execution_count": 91,
   "id": "5eab66b4-4aab-43e6-a613-0f23c2c58073",
   "metadata": {},
   "outputs": [
    {
     "name": "stdout",
     "output_type": "stream",
     "text": [
      "Total excerpts: 20\n"
     ]
    },
    {
     "data": {
      "text/plain": [
       "'lead-sheet-dataset/datasets/event/x/xyconstant/white-noise/chorus_symbol_key.json'"
      ]
     },
     "execution_count": 91,
     "metadata": {},
     "output_type": "execute_result"
    }
   ],
   "source": [
    "all_files = []\n",
    "with open('lead-sheet-dataset/datasets/event_list.json', 'r') as f:\n",
    "    json_events = f.read().replace('\"', '').replace('..', '')[1:-1].split(',')\n",
    "\n",
    "for event in json_events:\n",
    "    all_files.append('lead-sheet-dataset' + event.strip())\n",
    "\n",
    "\n",
    "print(f\"Total excerpts: {len(all_files)}\")\n",
    "all_files[0]"
   ]
  },
  {
   "cell_type": "code",
   "execution_count": 158,
   "id": "3995024e-995f-41cb-93fd-4a86d833beeb",
   "metadata": {},
   "outputs": [],
   "source": [
    "# 3. Build vocabularies\n",
    "all_pitches, all_chords = [], []\n",
    "for p in all_files:\n",
    "    js = json.load(open(p,'r'))\n",
    "    all_pitches += [e['pitch']  for e in js['tracks']['melody'] if e and 'pitch' in e and e['pitch']]\n",
    "    all_chords  += [c['symbol'] for c in js['tracks']['chord'] if c and 'symbol' in c and c['symbol']]\n",
    "pitch2idx = {p:i+1 for i,p in enumerate(sorted(set(all_pitches)))}\n",
    "chord2idx = {c:i+1 for i,c in enumerate(sorted(set(all_chords)))}\n",
    "idx2chord = {i:c for c,i in chord2idx.items()}\n",
    "N_PITCH, N_CHORD = len(pitch2idx)+1, len(chord2idx)+1"
   ]
  },
  {
   "cell_type": "code",
   "execution_count": 160,
   "id": "97b9b2c9-82f8-409d-8cd0-8dc14305711d",
   "metadata": {},
   "outputs": [],
   "source": [
    "# 4. Dataset & collate\n",
    "class LeadSheetDataset(Dataset):\n",
    "    def __init__(self, files): self.files, self.seq = files, SEQ_LEN\n",
    "    def __len__(self): return len(self.files)\n",
    "    def __getitem__(self, i):\n",
    "        js = json.load(open(self.files[i],'r'))\n",
    "        mel = [pitch2idx.get(e['pitch'],0) for e in js['tracks']['melody'] if e and 'pitch' in e and e['pitch']]\n",
    "        ch  = [chord2idx.get(c['symbol'],0) for c in js['tracks']['chord'] if c and 'symbol' in c and c['symbol']]\n",
    "        L = min(len(mel), len(ch), self.seq+1)\n",
    "        return (\n",
    "            torch.tensor(mel[:L-1], dtype=torch.long),\n",
    "            torch.tensor(ch [:L-1], dtype=torch.long),\n",
    "            torch.tensor(ch [1:L],  dtype=torch.long)\n",
    "        )\n",
    "        \n",
    "def collate_fn(batch):\n",
    "    m,c,t = zip(*batch)\n",
    "    m = nn.utils.rnn.pad_sequence(m, batch_first=True, padding_value=0)\n",
    "    c = nn.utils.rnn.pad_sequence(c, batch_first=True, padding_value=0)\n",
    "    t = nn.utils.rnn.pad_sequence(t, batch_first=True, padding_value=0)\n",
    "    return m,c,t"
   ]
  },
  {
   "cell_type": "code",
   "execution_count": 161,
   "id": "da0808a0-96e4-4b1e-a6b6-aba4da097007",
   "metadata": {},
   "outputs": [
    {
     "name": "stdout",
     "output_type": "stream",
     "text": [
      "Train: 16, Val: 4\n"
     ]
    }
   ],
   "source": [
    "# 5. Split into train/val\n",
    "train_files, val_files = train_test_split(all_files, test_size=0.2, random_state=42)\n",
    "train_loader = DataLoader(LeadSheetDataset(train_files), batch_size=BATCH_SIZE,\n",
    "                          shuffle=True,  collate_fn=collate_fn, num_workers=0)\n",
    "val_loader   = DataLoader(LeadSheetDataset(val_files),   batch_size=BATCH_SIZE,\n",
    "                          shuffle=False, collate_fn=collate_fn, num_workers=0)\n",
    "print(f\"Train: {len(train_files)}, Val: {len(val_files)}\")"
   ]
  },
  {
   "cell_type": "code",
   "execution_count": 162,
   "id": "df825653-e0f3-4b5f-8f83-bb906c449ea9",
   "metadata": {},
   "outputs": [],
   "source": [
    "# 6. Transformer Definition\n",
    "class JamTransformer(nn.Module):\n",
    "    def __init__(self):\n",
    "        super().__init__()\n",
    "        d_model, nhead, d_ff, nlayers, dropout = 512, 8, 2048, 6, 0.1\n",
    "        self.pitch_emb = nn.Embedding(N_PITCH, d_model, padding_idx=0)\n",
    "        self.chord_emb = nn.Embedding(N_CHORD, d_model, padding_idx=0)\n",
    "        self.pos_emb   = nn.Embedding(SEQ_LEN,  d_model)\n",
    "        layer = nn.TransformerEncoderLayer(d_model,nhead,d_ff,dropout,batch_first=True)\n",
    "        self.transformer = nn.TransformerEncoder(layer, nlayers)\n",
    "        self.fc = nn.Linear(d_model, N_CHORD)\n",
    "        \n",
    "    def forward(self, mel, ch):\n",
    "        B,T = mel.size()\n",
    "        pos = torch.arange(T, device=mel.device).unsqueeze(0)\n",
    "        x = self.pitch_emb(mel) + self.chord_emb(ch) + self.pos_emb(pos)\n",
    "        x = self.transformer(x)\n",
    "        return self.fc(x)"
   ]
  },
  {
   "cell_type": "code",
   "execution_count": 163,
   "id": "8d30779e-c4fb-4274-b511-8bc8aa920961",
   "metadata": {
    "scrolled": true
   },
   "outputs": [
    {
     "name": "stdout",
     "output_type": "stream",
     "text": [
      "Epoch  1 — Train 4.1150, Val 4.0143, PPL 55.39\n",
      "Epoch  2 — Train 3.0129, Val 3.7322, PPL 41.77\n",
      "Epoch  3 — Train 2.6399, Val 3.5784, PPL 35.82\n",
      "Epoch  4 — Train 2.3322, Val 3.5555, PPL 35.00\n",
      "Epoch  5 — Train 2.1365, Val 3.5782, PPL 35.81\n",
      "Epoch  6 — Train 1.9320, Val 3.5869, PPL 36.12\n",
      "Epoch  7 — Train 1.7731, Val 3.5683, PPL 35.46\n",
      "Epoch  8 — Train 1.5908, Val 3.5603, PPL 35.17\n",
      "Epoch  9 — Train 1.4295, Val 3.5733, PPL 35.63\n",
      "Epoch 10 — Train 1.2763, Val 3.6023, PPL 36.68\n",
      "Epoch 11 — Train 1.1449, Val 3.6290, PPL 37.67\n",
      "Epoch 12 — Train 1.0125, Val 3.6394, PPL 38.07\n",
      "Epoch 13 — Train 0.9063, Val 3.6409, PPL 38.12\n",
      "Epoch 14 — Train 0.7939, Val 3.6458, PPL 38.31\n",
      "Epoch 15 — Train 0.6846, Val 3.6591, PPL 38.82\n",
      "Epoch 16 — Train 0.6021, Val 3.6805, PPL 39.67\n",
      "Epoch 17 — Train 0.5342, Val 3.7036, PPL 40.59\n",
      "Epoch 18 — Train 0.4732, Val 3.7216, PPL 41.33\n",
      "Epoch 19 — Train 0.4142, Val 3.7321, PPL 41.77\n",
      "Epoch 20 — Train 0.3695, Val 3.7378, PPL 42.01\n",
      "Epoch 21 — Train 0.3186, Val 3.7412, PPL 42.15\n",
      "Epoch 22 — Train 0.2719, Val 3.7449, PPL 42.30\n",
      "Epoch 23 — Train 0.2454, Val 3.7485, PPL 42.46\n",
      "Epoch 24 — Train 0.2064, Val 3.7495, PPL 42.50\n",
      "Epoch 25 — Train 0.1803, Val 3.7476, PPL 42.42\n",
      "Epoch 26 — Train 0.1615, Val 3.7474, PPL 42.41\n",
      "Epoch 27 — Train 0.1403, Val 3.7484, PPL 42.45\n",
      "Epoch 28 — Train 0.1217, Val 3.7517, PPL 42.59\n",
      "Epoch 29 — Train 0.1083, Val 3.7560, PPL 42.78\n",
      "Epoch 30 — Train 0.0928, Val 3.7625, PPL 43.06\n"
     ]
    }
   ],
   "source": [
    "# 7. Instantiate model + optimizer\n",
    "model     = JamTransformer().to(DEVICE)\n",
    "criterion = nn.CrossEntropyLoss(ignore_index=0)\n",
    "optimizer = torch.optim.Adam(model.parameters(), lr=LR)\n",
    "\n",
    "# 8. Training & Validation Loop\n",
    "train_losses, val_losses = [], []\n",
    "for epoch in range(1, EPOCHS+1):\n",
    "    model.train(); tl=0\n",
    "    for mel,ch,tgt in train_loader:\n",
    "        mel,ch,tgt = mel.to(DEVICE),ch.to(DEVICE),tgt.to(DEVICE)\n",
    "        optimizer.zero_grad()\n",
    "        out  = model(mel,ch)\n",
    "        loss = criterion(out.view(-1,N_CHORD), tgt.view(-1))\n",
    "        loss.backward(); optimizer.step()\n",
    "        tl += loss.item()\n",
    "    train_losses.append(tl/len(train_loader))\n",
    "\n",
    "    model.eval(); vl=0\n",
    "    with torch.no_grad():\n",
    "        for mel,ch,tgt in val_loader:\n",
    "            mel,ch,tgt = mel.to(DEVICE),ch.to(DEVICE),tgt.to(DEVICE)\n",
    "            vl += criterion(model(mel,ch).view(-1,N_CHORD), tgt.view(-1)).item()\n",
    "    val_losses.append(vl/len(val_loader))\n",
    "\n",
    "    print(f\"Epoch {epoch:2d} — Train {train_losses[-1]:.4f}, \"\n",
    "          f\"Val {val_losses[-1]:.4f}, PPL {np.exp(val_losses[-1]):.2f}\")"
   ]
  },
  {
   "cell_type": "code",
   "execution_count": 164,
   "id": "6b1884f3-e67a-45a5-9608-6a6c7474dc94",
   "metadata": {},
   "outputs": [
    {
     "data": {
      "image/png": "[encoded data removed]",
      "text/plain": [
       "<Figure size 600x400 with 1 Axes>"
      ]
     },
     "metadata": {},
     "output_type": "display_data"
    },
    {
     "data": {
      "image/png": "[encoded data removed]",
      "text/plain": [
       "<Figure size 600x400 with 1 Axes>"
      ]
     },
     "metadata": {},
     "output_type": "display_data"
    }
   ],
   "source": [
    "# 9. Plot Loss & PPL\n",
    "eps = range(1, EPOCHS+1)\n",
    "plt.figure(figsize=(6,4))\n",
    "plt.plot(eps, train_losses,label='Train'); plt.plot(eps, val_losses,label='Val')\n",
    "plt.xlabel('Epoch'); plt.ylabel('Loss'); plt.legend(); plt.grid(); plt.show()\n",
    "plt.figure(figsize=(6,4))\n",
    "plt.plot(eps, np.exp(train_losses),label='Train PPL'); plt.plot(eps, np.exp(val_losses),label='Val PPL')\n",
    "plt.xlabel('Epoch'); plt.ylabel('Perplexity'); plt.legend(); plt.grid(); plt.show()\n"
   ]
  },
  {
   "cell_type": "code",
   "execution_count": 165,
   "id": "5f2c0901-6495-4ce9-85ca-2deeb5eca919",
   "metadata": {},
   "outputs": [
    {
     "name": "stdout",
     "output_type": "stream",
     "text": [
      "Train Acc: 99.48%, Val Acc: 7.14%\n"
     ]
    }
   ],
   "source": [
    "# 10. Compute Accuracy\n",
    "def compute_accuracy(loader):\n",
    "    correct, total = 0,0\n",
    "    model.eval()\n",
    "    with torch.no_grad():\n",
    "        for mel,ch,tgt in loader:\n",
    "            mel,ch,tgt = mel.to(DEVICE),ch.to(DEVICE),tgt.to(DEVICE)\n",
    "            preds = model(mel,ch).argmax(dim=-1)\n",
    "            mask  = tgt!=0\n",
    "            correct += (preds==tgt).masked_select(mask).sum().item()\n",
    "            total   += mask.sum().item()\n",
    "    return correct/total\n",
    "\n",
    "print(f\"Train Acc: {compute_accuracy(train_loader):.2%}, \"\n",
    "      f\"Val Acc: {compute_accuracy(val_loader):.2%}\")"
   ]
  },
  {
   "cell_type": "code",
   "execution_count": 173,
   "id": "e58dc06c-3518-47ce-b368-a19e525f21ff",
   "metadata": {},
   "outputs": [
    {
     "name": "stdout",
     "output_type": "stream",
     "text": [
      "\n",
      "Samples:\n",
      "the-place / chorus_symbol_key.json\n",
      " True: ['dm', 'C', 'G', 'dm', 'C', 'G', 'dm', 'C']\n",
      " Pred: ['dm', 'C', 'G', 'dm', 'G', 'G', 'G', 'G']\n",
      "---\n",
      "white-noise / chorus_symbol_key.json\n",
      " True: []\n",
      " Pred: []\n",
      "---\n",
      "revenge / intro_symbol_key.json\n",
      " True: ['bm', 'G', 'A', 'Gb', 'bm', 'G', 'A', 'Gb']\n",
      " Pred: ['bm', 'G', 'A', 'Gb', 'bm', 'G', 'A', 'Gb']\n",
      "---\n"
     ]
    }
   ],
   "source": [
    "# 11. Qualitative Sampling\n",
    "def generate_chords(model, melody_seq, true_chords, primer_len=4):\n",
    "    if len(true_chords) <= primer_len or len(melody_seq) <= primer_len:\n",
    "        return true_chords.copy()\n",
    "    model.eval()\n",
    "    gen = true_chords[:primer_len].copy()\n",
    "    \n",
    "    with torch.no_grad():\n",
    "        for t in range(primer_len, len(true_chords)):\n",
    "            if t == 0: continue\n",
    "            mel = torch.tensor([melody_seq[:t]],device=DEVICE, dtype=torch.long)\n",
    "            ch  = torch.tensor([gen[:t]],       device=DEVICE, dtype=torch.long)\n",
    "            gen.append(model(mel,ch)[0,-1].argmax().item())\n",
    "    return gen\n",
    "\n",
    "print(\"\\nSamples:\")\n",
    "for path in random.sample(val_files, 3):\n",
    "    js = json.load(open(path,'r'))\n",
    "    mel = [pitch2idx[e['pitch']] for e in js['tracks']['melody'] if e and 'pitch' in e and e['pitch']]\n",
    "    true_ch = [chord2idx[c['symbol']] for c in js['tracks']['chord'] if c and 'symbol' in c and c['symbol']]\n",
    "    pred_ch = generate_chords(model, mel, true_ch)\n",
    "    print(path.split('/')[-2], \"/\", path.split('/')[-1])\n",
    "    print(\" True:\", [idx2chord[c] for c in true_ch[:8]])\n",
    "    print(\" Pred:\", [idx2chord[c] for c in pred_ch[:8]])\n",
    "    print(\"---\")"
   ]
  },
  {
   "cell_type": "code",
   "execution_count": null,
   "id": "c1d6a1a7-f1c3-40c9-9950-00c4511b08fc",
   "metadata": {},
   "outputs": [],
   "source": []
  },
  {
   "cell_type": "code",
   "execution_count": 75,
   "id": "0a134b47-b84c-4893-ad5a-5eb086159618",
   "metadata": {},
   "outputs": [
    {
     "ename": "FileNotFoundError",
     "evalue": "[Errno 2] No such file or directory: 'datasets/event'",
     "output_type": "error",
     "traceback": [
      "\u001b[0;31m---------------------------------------------------------------------------\u001b[0m",
      "\u001b[0;31mFileNotFoundError\u001b[0m                         Traceback (most recent call last)",
      "Cell \u001b[0;32mIn[75], line 18\u001b[0m\n\u001b[1;32m     14\u001b[0m DEVICE     \u001b[38;5;241m=\u001b[39m torch\u001b[38;5;241m.\u001b[39mdevice(\u001b[38;5;124m\"\u001b[39m\u001b[38;5;124mcuda\u001b[39m\u001b[38;5;124m\"\u001b[39m \u001b[38;5;28;01mif\u001b[39;00m torch\u001b[38;5;241m.\u001b[39mcuda\u001b[38;5;241m.\u001b[39mis_available() \u001b[38;5;28;01melse\u001b[39;00m \u001b[38;5;124m\"\u001b[39m\u001b[38;5;124mcpu\u001b[39m\u001b[38;5;124m\"\u001b[39m)\n\u001b[1;32m     16\u001b[0m \u001b[38;5;66;03m# 2. Gather all JSON files\u001b[39;00m\n\u001b[1;32m     17\u001b[0m all_files \u001b[38;5;241m=\u001b[39m [os\u001b[38;5;241m.\u001b[39mpath\u001b[38;5;241m.\u001b[39mjoin(DATA_DIR, f)\n\u001b[0;32m---> 18\u001b[0m              \u001b[38;5;28;01mfor\u001b[39;00m f \u001b[38;5;129;01min\u001b[39;00m \u001b[43mos\u001b[49m\u001b[38;5;241;43m.\u001b[39;49m\u001b[43mlistdir\u001b[49m\u001b[43m(\u001b[49m\u001b[43mDATA_DIR\u001b[49m\u001b[43m)\u001b[49m \u001b[38;5;28;01mif\u001b[39;00m f\u001b[38;5;241m.\u001b[39mendswith(\u001b[38;5;124m\"\u001b[39m\u001b[38;5;124m.json\u001b[39m\u001b[38;5;124m\"\u001b[39m)]\n\u001b[1;32m     19\u001b[0m \u001b[38;5;28mprint\u001b[39m(\u001b[38;5;124mf\u001b[39m\u001b[38;5;124m\"\u001b[39m\u001b[38;5;124mTotal excerpts: \u001b[39m\u001b[38;5;132;01m{\u001b[39;00m\u001b[38;5;28mlen\u001b[39m(all_files)\u001b[38;5;132;01m}\u001b[39;00m\u001b[38;5;124m\"\u001b[39m)\n\u001b[1;32m     21\u001b[0m \u001b[38;5;66;03m# 3. Build vocabularies\u001b[39;00m\n",
      "\u001b[0;31mFileNotFoundError\u001b[0m: [Errno 2] No such file or directory: 'datasets/event'"
     ]
    }
   ],
   "source": [
    "import os, json, random, numpy as np, torch\n",
    "from torch import nn\n",
    "from torch.utils.data import Dataset, DataLoader\n",
    "from sklearn.model_selection import train_test_split\n",
    "from collections import Counter\n",
    "import matplotlib.pyplot as plt\n",
    "\n",
    "# 1. Paths & Hyperparams\n",
    "DATA_DIR = \"datasets/event\"\n",
    "SEQ_LEN    = 128\n",
    "BATCH_SIZE = 64\n",
    "EPOCHS     = 30\n",
    "LR         = 1e-4\n",
    "DEVICE     = torch.device(\"cuda\" if torch.cuda.is_available() else \"cpu\")\n",
    "\n",
    "# 2. Gather all JSON files\n",
    "all_files = [os.path.join(DATA_DIR, f)\n",
    "             for f in os.listdir(DATA_DIR) if f.endswith(\".json\")]\n",
    "print(f\"Total excerpts: {len(all_files)}\")\n",
    "\n",
    "# 3. Build vocabularies\n",
    "all_pitches, all_chords = [], []\n",
    "for p in all_files:\n",
    "    js = json.load(open(p,'r'))\n",
    "    all_pitches += [e['pitch']  for e in js['melody'] if 'pitch' in e]\n",
    "    all_chords  += [c['symbol'] for c in js['chords'] if 'symbol' in c]\n",
    "pitch2idx = {p:i+1 for i,p in enumerate(sorted(set(all_pitches)))}\n",
    "chord2idx = {c:i+1 for i,c in enumerate(sorted(set(all_chords)))}\n",
    "idx2chord = {i:c for c,i in chord2idx.items()}\n",
    "N_PITCH, N_CHORD = len(pitch2idx)+1, len(chord2idx)+1\n",
    "\n",
    "# 4. Dataset & collate\n",
    "class LeadSheetDataset(Dataset):\n",
    "    def __init__(self, files): self.files, self.seq = files, SEQ_LEN\n",
    "    def __len__(self): return len(self.files)\n",
    "    def __getitem__(self, i):\n",
    "        js = json.load(open(self.files[i],'r'))\n",
    "        mel = [pitch2idx.get(e['pitch'],0) for e in js['melody'] if 'pitch' in e]\n",
    "        ch  = [chord2idx.get(c['symbol'],0) for c in js['chords']  if 'symbol' in c]\n",
    "        L = min(len(mel), len(ch), self.seq+1)\n",
    "        return (\n",
    "            torch.tensor(mel[:L-1], dtype=torch.long),\n",
    "            torch.tensor(ch [:L-1], dtype=torch.long),\n",
    "            torch.tensor(ch [1:L],  dtype=torch.long)\n",
    "        )\n",
    "def collate_fn(batch):\n",
    "    m,c,t = zip(*batch)\n",
    "    m = nn.utils.rnn.pad_sequence(m, batch_first=True, padding_value=0)\n",
    "    c = nn.utils.rnn.pad_sequence(c, batch_first=True, padding_value=0)\n",
    "    t = nn.utils.rnn.pad_sequence(t, batch_first=True, padding_value=0)\n",
    "    return m,c,t\n",
    "\n",
    "# 5. Split into train/val\n",
    "train_files, val_files = train_test_split(all_files, test_size=0.2, random_state=42)\n",
    "train_loader = DataLoader(LeadSheetDataset(train_files), batch_size=BATCH_SIZE,\n",
    "                          shuffle=True,  collate_fn=collate_fn, num_workers=0)\n",
    "val_loader   = DataLoader(LeadSheetDataset(val_files),   batch_size=BATCH_SIZE,\n",
    "                          shuffle=False, collate_fn=collate_fn, num_workers=0)\n",
    "print(f\"Train: {len(train_files)}, Val: {len(val_files)}\")\n",
    "\n",
    "# 6. Transformer Definition\n",
    "class JamTransformer(nn.Module):\n",
    "    def __init__(self):\n",
    "        super().__init__()\n",
    "        d_model, nhead, d_ff, nlayers, dropout = 512, 8, 2048, 6, 0.1\n",
    "        self.pitch_emb = nn.Embedding(N_PITCH, d_model, padding_idx=0)\n",
    "        self.chord_emb = nn.Embedding(N_CHORD, d_model, padding_idx=0)\n",
    "        self.pos_emb   = nn.Embedding(SEQ_LEN,  d_model)\n",
    "        layer = nn.TransformerEncoderLayer(d_model,nhead,d_ff,dropout,batch_first=True)\n",
    "        self.transformer = nn.TransformerEncoder(layer, nlayers)\n",
    "        self.fc = nn.Linear(d_model, N_CHORD)\n",
    "    def forward(self, mel, ch):\n",
    "        B,T = mel.size()\n",
    "        pos = torch.arange(T, device=mel.device).unsqueeze(0)\n",
    "        x = self.pitch_emb(mel) + self.chord_emb(ch) + self.pos_emb(pos)\n",
    "        x = self.transformer(x)\n",
    "        return self.fc(x)\n",
    "\n",
    "# 7. Instantiate model + optimizer\n",
    "model     = JamTransformer().to(DEVICE)\n",
    "criterion = nn.CrossEntropyLoss(ignore_index=0)\n",
    "optimizer = torch.optim.Adam(model.parameters(), lr=LR)\n",
    "\n",
    "# 8. Training & Validation Loop\n",
    "train_losses, val_losses = [], []\n",
    "for epoch in range(1, EPOCHS+1):\n",
    "    model.train(); tl=0\n",
    "    for mel,ch,tgt in train_loader:\n",
    "        mel,ch,tgt = mel.to(DEVICE),ch.to(DEVICE),tgt.to(DEVICE)\n",
    "        optimizer.zero_grad()\n",
    "        out  = model(mel,ch)\n",
    "        loss = criterion(out.view(-1,N_CHORD), tgt.view(-1))\n",
    "        loss.backward(); optimizer.step()\n",
    "        tl += loss.item()\n",
    "    train_losses.append(tl/len(train_loader))\n",
    "\n",
    "    model.eval(); vl=0\n",
    "    with torch.no_grad():\n",
    "        for mel,ch,tgt in val_loader:\n",
    "            mel,ch,tgt = mel.to(DEVICE),ch.to(DEVICE),tgt.to(DEVICE)\n",
    "            vl += criterion(model(mel,ch).view(-1,N_CHORD), tgt.view(-1)).item()\n",
    "    val_losses.append(vl/len(val_loader))\n",
    "\n",
    "    print(f\"Epoch {epoch:2d} — Train {train_losses[-1]:.4f}, \"\n",
    "          f\"Val {val_losses[-1]:.4f}, PPL {np.exp(val_losses[-1]):.2f}\")\n",
    "\n",
    "# 9. Plot Loss & PPL\n",
    "eps = range(1, EPOCHS+1)\n",
    "plt.figure(figsize=(6,4))\n",
    "plt.plot(eps, train_losses,label='Train'); plt.plot(eps, val_losses,label='Val')\n",
    "plt.xlabel('Epoch'); plt.ylabel('Loss'); plt.legend(); plt.grid(); plt.show()\n",
    "plt.figure(figsize=(6,4))\n",
    "plt.plot(eps, np.exp(train_losses),label='Train PPL'); plt.plot(eps, np.exp(val_losses),label='Val PPL')\n",
    "plt.xlabel('Epoch'); plt.ylabel('Perplexity'); plt.legend(); plt.grid(); plt.show()\n",
    "\n",
    "# 10. Compute Accuracy\n",
    "def compute_accuracy(loader):\n",
    "    correct, total = 0,0\n",
    "    model.eval()\n",
    "    with torch.no_grad():\n",
    "        for mel,ch,tgt in loader:\n",
    "            mel,ch,tgt = mel.to(DEVICE),ch.to(DEVICE),tgt.to(DEVICE)\n",
    "            preds = model(mel,ch).argmax(dim=-1)\n",
    "            mask  = tgt!=0\n",
    "            correct += (preds==tgt).masked_select(mask).sum().item()\n",
    "            total   += mask.sum().item()\n",
    "    return correct/total\n",
    "\n",
    "print(f\"Train Acc: {compute_accuracy(train_loader):.2%}, \"\n",
    "      f\"Val Acc: {compute_accuracy(val_loader):.2%}\")\n",
    "\n",
    "# 11. Qualitative Sampling\n",
    "def generate_chords(model, melody_seq, true_chords, primer_len=4):\n",
    "    model.eval(); gen = true_chords[:primer_len].copy()\n",
    "    with torch.no_grad():\n",
    "        for t in range(primer_len, len(true_chords)):\n",
    "            mel = torch.tensor([melody_seq[:t]],device=DEVICE)\n",
    "            ch  = torch.tensor([gen[:t]],       device=DEVICE)\n",
    "            gen.append(model(mel,ch)[0,-1].argmax().item())\n",
    "    return gen\n",
    "\n",
    "print(\"\\nSamples:\")\n",
    "for path in random.sample(val_files, 3):\n",
    "    js = json.load(open(path,'r'))\n",
    "    mel = [pitch2idx[e['pitch']] for e in js['melody'] if 'pitch' in e]\n",
    "    true_ch = [chord2idx[c['symbol']] for c in js['chords'] if 'symbol' in c]\n",
    "    pred_ch = generate_chords(model, mel, true_ch)\n",
    "    print(path.split('/')[-2], \"/\", path.split('/')[-1])\n",
    "    print(\" True:\", [idx2chord[c] for c in true_ch[:8]])\n",
    "    print(\" Pred:\", [idx2chord[c] for c in pred_ch[:8]])\n",
    "    print(\"---\")\n"
   ]
  }
 ],
 "metadata": {
  "kernelspec": {
   "display_name": "Python 3 (ipykernel)",
   "language": "python",
   "name": "python3"
  },
  "language_info": {
   "codemirror_mode": {
    "name": "ipython",
    "version": 3
   },
   "file_extension": ".py",
   "mimetype": "text/x-python",
   "name": "python",
   "nbconvert_exporter": "python",
   "pygments_lexer": "ipython3",
   "version": "3.11.9"
  }
 },
 "nbformat": 4,
 "nbformat_minor": 5
}
